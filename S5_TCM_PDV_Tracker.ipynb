{
 "cells": [
  {
   "cell_type": "markdown",
   "id": "76ae3c90-7058-4774-a972-735135d491b0",
   "metadata": {},
   "source": [
    "# **S5_TCM_PDV Tracker**"
   ]
  },
  {
   "cell_type": "code",
   "execution_count": 10,
   "id": "68004416-6111-4541-9bf0-7468f621ae3a",
   "metadata": {},
   "outputs": [],
   "source": [
    "import pandas as pd\n",
    "from datetime import datetime, timedelta"
   ]
  },
  {
   "cell_type": "code",
   "execution_count": 2,
   "id": "6344d0de-f4da-46f5-919e-89234cb731bd",
   "metadata": {},
   "outputs": [
    {
     "name": "stdin",
     "output_type": "stream",
     "text": [
      "Enter the date frame as mmdd-mmdd:  1223-1229\n"
     ]
    }
   ],
   "source": [
    "date=input('Enter the date frame as mmdd-mmdd: ')\n",
    "path=r'C:\\Users\\ZemingLiu\\OneDrive - PBACO\\Documents\\Weekly App Reports\\Derrell Macros\\Patient Alerts Macro'"
   ]
  },
  {
   "cell_type": "code",
   "execution_count": 11,
   "id": "6ceeb187-e0b6-4375-bd29-16b2e0ecee73",
   "metadata": {
    "tags": []
   },
   "outputs": [],
   "source": [
    "PBACO_lowapp=pd.read_excel(fr'{path}\\{date} PBACO\\Low_App_performers_{date}.xlsx')\n",
    "NHNP_lowapp=pd.read_excel(fr'{path}\\{date} NHNP\\Low_App_performers_NHNP_{date}.xlsx')\n",
    "Empire_lowapp=pd.read_excel(fr'{path}\\{date} Empire\\Low_App_performers_Empire_{date}.xlsx')"
   ]
  },
  {
   "cell_type": "code",
   "execution_count": 12,
   "id": "6f034dd1-cae5-4b57-8b5f-fbc8ef66997c",
   "metadata": {
    "tags": []
   },
   "outputs": [
    {
     "name": "stdout",
     "output_type": "stream",
     "text": [
      "no reocrds\n"
     ]
    },
    {
     "name": "stderr",
     "output_type": "stream",
     "text": [
      "C:\\Users\\ZemingLiu\\AppData\\Local\\Temp\\ipykernel_24564\\776214066.py:4: SettingWithCopyWarning: \n",
      "A value is trying to be set on a copy of a slice from a DataFrame.\n",
      "Try using .loc[row_indexer,col_indexer] = value instead\n",
      "\n",
      "See the caveats in the documentation: https://pandas.pydata.org/pandas-docs/stable/user_guide/indexing.html#returning-a-view-versus-a-copy\n",
      "  df_pb.loc[:,'ACO']='PBACO'\n",
      "C:\\Users\\ZemingLiu\\AppData\\Local\\Temp\\ipykernel_24564\\776214066.py:9: SettingWithCopyWarning: \n",
      "A value is trying to be set on a copy of a slice from a DataFrame.\n",
      "Try using .loc[row_indexer,col_indexer] = value instead\n",
      "\n",
      "See the caveats in the documentation: https://pandas.pydata.org/pandas-docs/stable/user_guide/indexing.html#returning-a-view-versus-a-copy\n",
      "  df_empire.loc[:,'ACO']='Empire'\n"
     ]
    }
   ],
   "source": [
    "df_pb=PBACO_lowapp[PBACO_lowapp['Consecutive Weeks'].isin([3,4])]\n",
    "df_nhnp=NHNP_lowapp[NHNP_lowapp['Consecutive Weeks'].isin([3,4])]\n",
    "df_empire=Empire_lowapp[Empire_lowapp['Consecutive Weeks'].isin([3,4])]\n",
    "df_pb.loc[:,'ACO']='PBACO'\n",
    "try:\n",
    "    df_nhnp.loc[:,'ACO']='NHNP'\n",
    "except ValueError as e:\n",
    "    print('no reocrds')\n",
    "df_empire.loc[:,'ACO']='Empire'"
   ]
  },
  {
   "cell_type": "code",
   "execution_count": 13,
   "id": "ac91bc5e-55bb-4496-a3d9-9a817a997534",
   "metadata": {
    "tags": []
   },
   "outputs": [],
   "source": [
    "df=pd.concat([df_pb,df_nhnp,df_empire]).reset_index(drop=True)\n",
    "\n",
    "#from dt 3\n",
    "from_dt_3=datetime.strptime(date[:4], '%m%d').replace(year=2024)\n",
    "from_dt_3=from_dt_3-timedelta(days=14)\n",
    "from_dt_3=from_dt_3.strftime('%m/%d')\n",
    "\n",
    "#from dt 4\n",
    "from_dt_4=datetime.strptime(date[:4], '%m%d').replace(year=2024) #convert integer to date\n",
    "from_dt_4=from_dt_4-timedelta(days=21) #substract 14days\n",
    "from_dt_4=from_dt_4.strftime('%m/%d') #convert date to string\n",
    "\n",
    "#to date\n",
    "to_dt=f'{date[5:7]}/{date[7:9]}'"
   ]
  },
  {
   "cell_type": "code",
   "execution_count": 14,
   "id": "75d6fdda-086e-46cd-ba85-5c1570e2a40b",
   "metadata": {},
   "outputs": [],
   "source": [
    "#report week\n",
    "df['Report_Week']=f'{date[0:2]}/{date[2:4]}-{date[5:7]}/{date[7:9]}'\n",
    "\n",
    "df['TCM_Audit_Time_Frame']=''\n",
    "df.loc[df['Consecutive Weeks']==3,'TCM_Audit_Time_Frame']=f'{from_dt_3}-{to_dt}'\n",
    "df.loc[df['Consecutive Weeks']==4,'TCM_Audit_Time_Frame']=f'{from_dt_4}-{to_dt}'\n",
    "\n",
    "df['TCM_Audit_Due_Date']=(datetime.now()+timedelta(days=29)).strftime('%m/%d')\n",
    "\n",
    "df['CT_Assist_Status']=''\n",
    "\n",
    "df['Email Sent to Consultant']=datetime.now().date()"
   ]
  },
  {
   "cell_type": "code",
   "execution_count": 15,
   "id": "99fd9fb6-2dd8-4422-8ea1-1bce7f74c712",
   "metadata": {},
   "outputs": [],
   "source": [
    "columns=['ACO','Report_Week','Consecutive Weeks','TCM_Audit_Time_Frame','TCM_Audit_Due_Date','CT_Assist_Status','TIN Name','Provider','Provider Consultant','Pts Sent To App','Pts With Actions(%)','Total Pts With Actions','Logins','Email Sent to Consultant','TIN']\n",
    "df=df[columns]\n",
    "df.to_excel(fr'{path}\\TCM_PDV {date}.xlsx',index=False)"
   ]
  },
  {
   "cell_type": "code",
   "execution_count": 16,
   "id": "81ad1453-0c5e-484e-85aa-4ac7920b4d1e",
   "metadata": {},
   "outputs": [
    {
     "name": "stdout",
     "output_type": "stream",
     "text": [
      "TCM_PDV List Finished, File saved at C:\\Users\\ZemingLiu\\OneDrive - PBACO\\Documents\\Weekly App Reports\\Derrell Macros\\Patient Alerts Macro\\TCM_PDV 1223-1229.xlsx, update shared TCM_PDV list for Chantel and download to local\n"
     ]
    }
   ],
   "source": [
    "print(fr'TCM_PDV List Finished, File saved at {path}\\TCM_PDV {date}.xlsx, update shared TCM_PDV list for Chantel and download to local')"
   ]
  }
 ],
 "metadata": {
  "kernelspec": {
   "display_name": "Python 3 (ipykernel)",
   "language": "python",
   "name": "python3"
  },
  "language_info": {
   "codemirror_mode": {
    "name": "ipython",
    "version": 3
   },
   "file_extension": ".py",
   "mimetype": "text/x-python",
   "name": "python",
   "nbconvert_exporter": "python",
   "pygments_lexer": "ipython3",
   "version": "3.10.9"
  }
 },
 "nbformat": 4,
 "nbformat_minor": 5
}
