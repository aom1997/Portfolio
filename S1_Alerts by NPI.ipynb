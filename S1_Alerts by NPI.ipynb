{
 "cells": [
  {
   "cell_type": "markdown",
   "id": "684bda5f-5ad2-4fa4-9c62-6e19aa05887e",
   "metadata": {},
   "source": [
    "# **S1_Patient Alerts by NPI Report**"
   ]
  },
  {
   "cell_type": "markdown",
   "id": "35b5a2a1-02a7-4a1b-ae7a-8dfd04f4f9c4",
   "metadata": {
    "tags": []
   },
   "source": [
    "# **Part 1 Process Data**"
   ]
  },
  {
   "cell_type": "markdown",
   "id": "81b92fe2-ea0b-4ae3-88a2-8ac1e106c2cb",
   "metadata": {},
   "source": [
    "### **Import Raw File**"
   ]
  },
  {
   "cell_type": "code",
   "execution_count": 87,
   "id": "878452df-a872-4da0-9cb8-b371f2beb919",
   "metadata": {},
   "outputs": [],
   "source": [
    "import pandas as pd\n",
    "import numpy as np\n",
    "import os\n",
    "import sys\n",
    "from datetime import datetime\n",
    "import shutil"
   ]
  },
  {
   "cell_type": "code",
   "execution_count": 88,
   "id": "51267b69-f4f7-4b1d-98c7-abcca2796f8e",
   "metadata": {
    "tags": []
   },
   "outputs": [
    {
     "name": "stdin",
     "output_type": "stream",
     "text": [
      "Select the report type, Enter D/d if it is for Dominic. If not, the report will default to regular weekly app report \n",
      "Enter the name of ACO  Empire\n",
      "Enter the date frame as mmdd-mmdd:  1223-1229\n"
     ]
    }
   ],
   "source": [
    "#input aco and dateframe\n",
    "Report_Type=input(fr'Select the report type, Enter D/d if it is for Dominic. If not, the report will default to regular weekly app report')\n",
    "deployment=input('Enter the name of ACO ')\n",
    "date_input=input('Enter the date frame as mmdd-mmdd: ')\n",
    "      \n",
    "if Report_Type.lower()=='d':\n",
    "    path=fr'C:\\Users\\ZemingLiu\\OneDrive - PBACO\\Documents\\Weekly App Reports\\Derrell Macros\\Patient Alerts Macro\\Current Week Reports (for Dominic)'\n",
    "    import_filename=fr\"{input('Enter import filename')}.xlsx\"\n",
    "else:\n",
    "    path=fr\"C:\\Users\\ZemingLiu\\OneDrive - PBACO\\Documents\\Weekly App Reports\\Derrell Macros\\Patient Alerts Macro\\{date_input} {deployment}\" \n",
    "    if deployment=='PBACO':\n",
    "        import_filename=fr\"Patient Alerts by Subscribed NPI incl.xlsx\"\n",
    "    else:\n",
    "        import_filename=fr\"{deployment} Patient Alerts by Subscribed NPI incl.xlsx\"\n",
    "    \n",
    "if deployment=='PBACO':\n",
    "    export_filename=fr'patient_alerts_working'\n",
    "else:\n",
    "    export_filename=fr'patient_alerts_working_{deployment}' "
   ]
  },
  {
   "cell_type": "markdown",
   "id": "eea83ebc-9676-4787-bda2-0fa39a858bff",
   "metadata": {
    "tags": []
   },
   "source": [
    "### **Import Data, Skip Header, Drop Empty Columns**"
   ]
  },
  {
   "cell_type": "code",
   "execution_count": 89,
   "id": "2e8d6161-1e97-4144-a236-c77d871763cd",
   "metadata": {
    "tags": []
   },
   "outputs": [],
   "source": [
    "df=pd.read_excel(fr\"{path}\\{import_filename}\",skiprows=8) #skip the header\n",
    "Unnamed_col=[col for col in df.columns if 'Unnamed' in col] #drop empty rows\n",
    "df=df.drop(Unnamed_col,axis=1)"
   ]
  },
  {
   "cell_type": "markdown",
   "id": "caf9cda5-b584-4120-ae42-5d0fd2219450",
   "metadata": {
    "tags": []
   },
   "source": [
    "### **Convert DataType**"
   ]
  },
  {
   "cell_type": "code",
   "execution_count": 90,
   "id": "f6b86713-eab7-4174-ba05-1d9f6f8b05ad",
   "metadata": {
    "tags": []
   },
   "outputs": [],
   "source": [
    "df['TIN']=df['TIN'].astype('Int64')\n",
    "df['NPI']=df['NPI'].astype('Int64')\n",
    "columns= ['Pts With Actions  Under 3BD(%)','Pts With Actions(%)','Pts Read  Under 3BD(%)','Pts Read(%)'] #change to percentage\n",
    "for column in columns:\n",
    "    df[column] = (df[column].astype(float) * 100).map(lambda x: '{:.2f}%'.format(x))"
   ]
  },
  {
   "cell_type": "markdown",
   "id": "402cd6f8-811e-4057-ad88-9aecb5f3bbcd",
   "metadata": {},
   "source": [
    "### **Delete Duplicate NPI with Consultant Name as 'Duplicates', 'no Consultants', and 'None'**"
   ]
  },
  {
   "cell_type": "code",
   "execution_count": 91,
   "id": "c88a0d48-9d27-4d7b-96e2-72b8c8e05e42",
   "metadata": {
    "tags": []
   },
   "outputs": [],
   "source": [
    "drop_rows=df[(df.duplicated(subset=['NPI'],keep=False)) & (df['Provider Consultant'].isin(['Duplicate','no consultant','None']))].index\n",
    "df.drop(index=drop_rows,inplace=True)"
   ]
  },
  {
   "cell_type": "markdown",
   "id": "19e2127d-d443-4911-adbd-0e693a75ead3",
   "metadata": {},
   "source": [
    "### **Look Up BlankThings List, Get TIN,TIN Name for Blank TINs, Get Consultant Name for Blank Consultants**"
   ]
  },
  {
   "cell_type": "code",
   "execution_count": 92,
   "id": "56935468-5587-42cc-b3ec-043f81425982",
   "metadata": {
    "tags": []
   },
   "outputs": [],
   "source": [
    "#import blank thing\n",
    "BlankThings=pd.read_excel(r\"C:\\Users\\ZemingLiu\\OneDrive - PBACO\\Documents\\Weekly App Reports\\Derrell Macros\\Patient Alerts Macro\\Derrell Patient Alerts Macro.xlsm\",sheet_name=3)"
   ]
  },
  {
   "cell_type": "code",
   "execution_count": 93,
   "id": "3bf5e2a9-740e-419a-b775-db8f6cbe898d",
   "metadata": {},
   "outputs": [],
   "source": [
    "#get TIN,TIN Name from blankthings if TIN is blank, get consultant from blankthings\n",
    "df2=df[df['Provider Consultant'].isin(['Duplicate','no consultant','None'])].merge(BlankThings.drop_duplicates('NPI'), on='NPI',how='left',suffixes=('', '_right'))\n",
    "df2['TIN']=df2['TIN_right'].combine_first(df2['TIN'])\n",
    "df2['TIN Name']=df2['TIN Name_right'].combine_first(df2['TIN Name'])\n",
    "df2['Provider Consultant']=df2['Provider Consultant_right']"
   ]
  },
  {
   "cell_type": "code",
   "execution_count": 94,
   "id": "121004ed-1885-4baa-bf1c-3e7cf773e089",
   "metadata": {
    "tags": []
   },
   "outputs": [],
   "source": [
    "#remove duplicate columns from blankthings in df2\n",
    "column_order = df.columns.tolist()\n",
    "df2 = df2[column_order + [col for col in df2.columns if col not in column_order]] #sometimes two NPI column, sometimes just one\n",
    "df2=df2.iloc[:,:-4]"
   ]
  },
  {
   "cell_type": "code",
   "execution_count": 95,
   "id": "ccc643df-4cc7-441c-ba30-ff71cc5db174",
   "metadata": {
    "tags": []
   },
   "outputs": [],
   "source": [
    "#drop 'Duplicate','no consultant','None' rows in df then union df2\n",
    "drop_index=df[df['Provider Consultant'].isin(['Duplicate','no consultant','None'])].index\n",
    "df.drop(index=drop_index,inplace=True)\n",
    "df=pd.concat([df,df2],ignore_index=True)"
   ]
  },
  {
   "cell_type": "markdown",
   "id": "2307114f-ec69-4075-9423-ffdc1d40f083",
   "metadata": {},
   "source": [
    "### **Delete Duplicate Rows**"
   ]
  },
  {
   "cell_type": "code",
   "execution_count": 96,
   "id": "c33bfce9-cda8-41f7-a07c-bb4c79b04fc2",
   "metadata": {
    "tags": []
   },
   "outputs": [],
   "source": [
    "#remove 'delete' rows\n",
    "df=df[df['Provider Consultant']!='DELETE']\n",
    "#remove duplicates if PC is David T or Emily\n",
    "drop_rows=df[(df.duplicated(subset=['NPI'],keep=False)) & (df['Provider Consultant'].isin(['David T']))].index\n",
    "df.drop(index=drop_rows,inplace=True)\n",
    "drop_rows=df[(df.duplicated(subset=['NPI'],keep=False)) & (df['Provider Consultant'].isin(['Emily']))].index\n",
    "df.drop(index=drop_rows,inplace=True)"
   ]
  },
  {
   "cell_type": "code",
   "execution_count": 97,
   "id": "ea88ab0d-89cf-462b-8d66-ac45e5368ed0",
   "metadata": {},
   "outputs": [],
   "source": [
    "#sort data\n",
    "df=df.sort_values(by=['Provider Consultant','TIN Name','Provider','Pts Sent To App'],ascending=[True,True,True,False])\n",
    "#remove other duplicates\n",
    "drop_rows=df[df.duplicated(subset=['NPI'],keep='first')].index\n",
    "df.drop(index=drop_rows,inplace=True)"
   ]
  },
  {
   "cell_type": "code",
   "execution_count": 98,
   "id": "176a2668-f2ed-43ad-a795-722470545b26",
   "metadata": {},
   "outputs": [],
   "source": [
    "# #remove #n/a\n",
    "# df=df[df['Provider Consultant'].notna()]"
   ]
  },
  {
   "cell_type": "code",
   "execution_count": 99,
   "id": "69e74299-9548-42e3-9c00-6809bf5e0662",
   "metadata": {
    "tags": []
   },
   "outputs": [
    {
     "name": "stdout",
     "output_type": "stream",
     "text": [
      "Step 1 Finished, file saved at: C:\\Users\\ZemingLiu\\OneDrive - PBACO\\Documents\\Weekly App Reports\\Derrell Macros\\Patient Alerts Macro\\1223-1229 Empire\\patient_alerts_working_Empire_1223-1229.xlsx, look up N/A consultant in Act! before starting the Next Step\n"
     ]
    },
    {
     "name": "stdin",
     "output_type": "stream",
     "text": [
      "Enter Y when you are ready to continue y\n"
     ]
    },
    {
     "name": "stdout",
     "output_type": "stream",
     "text": [
      "Start adding header back\n"
     ]
    }
   ],
   "source": [
    "#export\n",
    "df.to_excel(fr'{path}\\{export_filename}_{date_input}.xlsx', index=False, sheet_name='Sheet1')\n",
    "print(f'Step 1 Finished, file saved at: {path}\\\\{export_filename}_{date_input}.xlsx, look up N/A consultant in Act! before starting the Next Step')\n",
    "continue_input=input('Enter Y when you are ready to continue')\n",
    "if continue_input.lower()=='y':\n",
    "    print('Start adding header back')\n",
    "else:\n",
    "    sys.exit()"
   ]
  },
  {
   "cell_type": "markdown",
   "id": "e322adcd-5a70-4dcf-962f-72eeb7147dcb",
   "metadata": {},
   "source": [
    "# **Part 2 Add The Header Back**"
   ]
  },
  {
   "cell_type": "code",
   "execution_count": 100,
   "id": "a4bc7194-5157-4aad-9874-471a5ed2d08b",
   "metadata": {},
   "outputs": [],
   "source": [
    "import openpyxl\n",
    "from openpyxl import load_workbook\n",
    "from openpyxl.styles import Alignment\n",
    "from openpyxl.styles import Font\n",
    "from openpyxl.styles import Border, Side\n",
    "from openpyxl.styles import PatternFill\n",
    "from openpyxl.utils import range_boundaries\n",
    "from openpyxl.styles import NamedStyle"
   ]
  },
  {
   "cell_type": "markdown",
   "id": "5c99e450-857f-4f16-bd10-d4080bf02322",
   "metadata": {},
   "source": [
    "### **Import Report Header and Body**"
   ]
  },
  {
   "cell_type": "code",
   "execution_count": 101,
   "id": "e7b84010-d68d-4c14-a8ba-6742f8111189",
   "metadata": {
    "tags": []
   },
   "outputs": [],
   "source": [
    "#Import the data again to refresh the blank tin records looked up mannualy in Act\n",
    "df=pd.read_excel(fr'{path}\\{export_filename}_{date_input}.xlsx')\n",
    "header_wb=load_workbook(r\"C:\\Users\\ZemingLiu\\OneDrive - PBACO\\Documents\\Weekly App Reports\\Derrell Macros\\Patient Alerts Macro\\Derrell Patient Alerts Macro.xlsm\")\n",
    "body_wb=load_workbook(fr'{path}\\{export_filename}_{date_input}.xlsx')\n",
    "# Select the active sheet in both workbooks\n",
    "header_ws = header_wb['doc-header'] \n",
    "body_ws = body_wb.active"
   ]
  },
  {
   "cell_type": "markdown",
   "id": "9183ce1a-82dd-48bb-b63d-a34ca02d27f9",
   "metadata": {},
   "source": [
    "### **Format Body**"
   ]
  },
  {
   "cell_type": "code",
   "execution_count": 102,
   "id": "c66ea80a-0c63-4e43-aa64-3993a680a11c",
   "metadata": {},
   "outputs": [],
   "source": [
    "#fill colors and set size\n",
    "pt_sent_to_app_fill = PatternFill(start_color='6495ED', end_color='6495ED', fill_type='solid')\n",
    "for row in range(1, body_ws.max_row + 1):  # Use max_row to iterate through actual data rows\n",
    "    body_ws.cell(row=row, column=7).fill = pt_sent_to_app_fill\n",
    "    \n",
    "pt_with_actions_fill = PatternFill(start_color='90EE90', end_color='90EE90', fill_type='solid')\n",
    "for col in range(8, 15):  # columns I to O\n",
    "    for row in range(1, body_ws.max_row + 1):\n",
    "        body_ws.cell(row=row, column=col).fill = pt_with_actions_fill\n",
    "        \n",
    "pt_with_reads_fill = PatternFill(start_color='F0E68C', end_color='F0E68C', fill_type='solid')\n",
    "for col in range(15, 22):  # columns P to V\n",
    "    for row in range(1, body_ws.max_row + 1):\n",
    "        body_ws.cell(row=row, column=col).fill = pt_with_reads_fill\n",
    "\n",
    "bsa_fill = PatternFill(start_color='00FF00', end_color='00FF00', fill_type='solid')\n",
    "for col in range(22, 26):  # columns W to Z\n",
    "    for row in range(1, body_ws.max_row + 1):\n",
    "        body_ws.cell(row=row, column=col).fill = bsa_fill\n",
    "\n",
    "login_fill = PatternFill(start_color='AFEEEE', end_color='AFEEEE', fill_type='solid')\n",
    "for row in range(1, body_ws.max_row + 1):\n",
    "    body_ws.cell(row=row, column=26).fill = login_fill\n",
    "    \n",
    "for row in range(1, body_ws.max_row + 1): #setup body rows\n",
    "    for cell in body_ws[row]:  \n",
    "        cell.font = Font(name='Segoe UI', size=8)  \n",
    "        cell.alignment = Alignment(horizontal='left')\n",
    "        \n",
    "for cell in body_ws[1]:  #set up body header\n",
    "    cell.alignment = Alignment(wrap_text=True, vertical='bottom', horizontal='left', text_rotation=90)\n",
    "    cell.font = Font(name='Segoe UI', size=8, bold=True)\n",
    "\n",
    "gray_color = 'D3D3D3'  # set up body boarder\n",
    "thin_gray_border = Border(\n",
    "    left=Side(style='thin', color=gray_color),\n",
    "    right=Side(style='thin', color=gray_color),\n",
    "    top=Side(style='thin', color=gray_color),\n",
    "    bottom=Side(style='thin', color=gray_color)\n",
    ")\n",
    "for row in body_ws.iter_rows(min_row=1, max_row=body_ws.max_row):\n",
    "    for cell in row:\n",
    "        cell.border = thin_gray_border"
   ]
  },
  {
   "cell_type": "markdown",
   "id": "840588b4-db76-4b45-9bcb-3f37becaedad",
   "metadata": {},
   "source": [
    "### **Insert Header to Body**"
   ]
  },
  {
   "cell_type": "code",
   "execution_count": 103,
   "id": "158afa85-5448-4c51-bad3-01b0582e3a0b",
   "metadata": {},
   "outputs": [],
   "source": [
    "#insert header\n",
    "body_ws.insert_rows(1, 5)\n",
    "\n",
    "# Copy values, fonts, styles, and merged cells from the header to the body\n",
    "for header_row in range(1, 6):  # Loop through the top 5 rows\n",
    "    for col in range(1, header_ws.max_column + 1):\n",
    "        header_cell = header_ws.cell(row=header_row, column=col)\n",
    "        body_cell = body_ws.cell(row=header_row, column=col)\n",
    "        \n",
    "        # Copy the value\n",
    "        body_cell.value = header_cell.value\n",
    "        \n",
    "        # Copy individual styles if the cell has them\n",
    "        body_cell.font = Font(\n",
    "            name=header_cell.font.name,\n",
    "            size=header_cell.font.size,\n",
    "            bold=header_cell.font.bold,\n",
    "            italic=header_cell.font.italic,\n",
    "            vertAlign=header_cell.font.vertAlign,\n",
    "            underline=header_cell.font.underline,\n",
    "            strike=header_cell.font.strike,\n",
    "            color=header_cell.font.color\n",
    "        )\n",
    "        body_cell.alignment = Alignment(\n",
    "            horizontal=header_cell.alignment.horizontal,\n",
    "            vertical=header_cell.alignment.vertical,\n",
    "            wrap_text=header_cell.alignment.wrap_text\n",
    "        )\n",
    "        body_cell.border = Border(\n",
    "            left=header_cell.border.left,\n",
    "            right=header_cell.border.right,\n",
    "            top=header_cell.border.top,\n",
    "            bottom=header_cell.border.bottom\n",
    "        )\n",
    "        body_cell.fill = PatternFill(\n",
    "            fill_type=header_cell.fill.fill_type,\n",
    "            start_color=header_cell.fill.start_color,\n",
    "            end_color=header_cell.fill.end_color\n",
    "        )"
   ]
  },
  {
   "cell_type": "markdown",
   "id": "2684db03-62cc-4104-b47e-06a007c256e7",
   "metadata": {},
   "source": [
    "### **Merge header cells**"
   ]
  },
  {
   "cell_type": "code",
   "execution_count": 104,
   "id": "b6b0e9a6-a909-45aa-8a83-0d2182eb89ec",
   "metadata": {},
   "outputs": [],
   "source": [
    "# Function to extract range boundaries from merged cells\n",
    "def range_boundaries(merged_range):\n",
    "    \"\"\"Extracts the boundaries of a merged cell range.\"\"\"\n",
    "    min_col, min_row, max_col, max_row = openpyxl.utils.range_boundaries(merged_range)\n",
    "    max_col=body_ws.max_column\n",
    "    return min_col, min_row, max_col, max_row\n",
    "\n",
    "# Copy merged cells from header to body\n",
    "for merged_range in header_ws.merged_cells.ranges:\n",
    "    min_col, min_row, max_col, max_row = range_boundaries(str(merged_range))\n",
    "    if min_row <= 5:  # Only copy merged cells in the first 5 rows\n",
    "        body_ws.merge_cells(start_row=min_row,\n",
    "                             start_column=min_col,\n",
    "                             end_row=max_row,\n",
    "                             end_column=max_col)"
   ]
  },
  {
   "cell_type": "markdown",
   "id": "525d2e78-848b-45ba-bfd8-d2cb46375dc1",
   "metadata": {},
   "source": [
    "### **Replace header value**"
   ]
  },
  {
   "cell_type": "code",
   "execution_count": 105,
   "id": "b8b0a092-07d2-453d-8861-6021e6f9c605",
   "metadata": {},
   "outputs": [],
   "source": [
    "if 'ssss' in body_ws['A2'].value:  \n",
    "    body_ws['A2'].value = body_ws['A2'].value.replace('ssss', fr\"{date_input[:2]}/{date_input[2:4]}/{datetime.now().year}\")\n",
    "if 'ffff' in body_ws['A2'].value:  \n",
    "    body_ws['A2'].value = body_ws['A2'].value.replace('ffff', fr\"{date_input[5:7]}/{date_input[7:9]}/{datetime.now().year}\")   \n",
    "if 'dddd' in body_ws['A3'].value:  \n",
    "    body_ws['A3'].value = body_ws['A3'].value.replace('dddd', datetime.now().date().strftime('%Y-%m-%d'))\n",
    "if 'xxxx' in body_ws['A4'].value:  \n",
    "    body_ws['A4'].value = body_ws['A4'].value.replace('xxxx', f\"{round((df[df['Provider Consultant']!='David T']['Total Pts With Actions'].sum()/df[df['Provider Consultant']!='David T']['Pts Sent To App'].sum())*100,2)}\") \n",
    "if 'yyyy' in body_ws['A4'].value:  \n",
    "    body_ws['A4'].value = body_ws['A4'].value.replace('yyyy', f\"{round((df[df['Provider Consultant']!='David T']['Total Pts Read'].sum()/df[df['Provider Consultant']!='David T']['Pts Sent To App'].sum())*100,2)}\") "
   ]
  },
  {
   "cell_type": "markdown",
   "id": "246492aa-2fe0-418b-a8da-12507ddc0519",
   "metadata": {},
   "source": [
    "### **Adjust the size for each cell**"
   ]
  },
  {
   "cell_type": "code",
   "execution_count": 106,
   "id": "829767c2-45bc-4f5b-8298-4cb134bedfe1",
   "metadata": {},
   "outputs": [],
   "source": [
    "#format size for each cell\n",
    "body_ws.row_dimensions[1].height = 30.8\n",
    "body_ws.row_dimensions[5].height = 200\n",
    "body_ws.row_dimensions[6].height = 86\n",
    "\n",
    "column_widths = [9, 32, 9, 22, 9, 4, 4, 6.22, 6, 4, 8.22, 8.22, 6.33, 6, 6.22, 4, 4, 6.22, 6.22, 6.22, 4, 6, 4, 6, 5, 4]\n",
    "columns = list('ABCDEFGHIJKLMNOPQRSTUVWXYZ')\n",
    "for i, width in enumerate(column_widths):\n",
    "    body_ws.column_dimensions[columns[i]].width = width"
   ]
  },
  {
   "cell_type": "markdown",
   "id": "6eab9402-96e7-44b8-9d14-7ce26a903e28",
   "metadata": {},
   "source": [
    "### **Hide grid, add filter, and change title name**"
   ]
  },
  {
   "cell_type": "code",
   "execution_count": 107,
   "id": "68e745ef-6170-44be-b129-fb9646e7a885",
   "metadata": {},
   "outputs": [],
   "source": [
    "#hide grid in header\n",
    "fill = PatternFill(start_color=\"FFFFFF\", end_color=\"FFFFFF\", fill_type=\"solid\")\n",
    "for row in range(1, 6):\n",
    "    for col in range(1, body_ws.max_column):\n",
    "        body_ws.cell(row=row, column=col).fill = fill\n",
    "       \n",
    "#invisiable boarder in row 6\n",
    "invisible_border = Border(left=Side(style='none'),\n",
    "                          right=Side(style='none'),\n",
    "                          top=Side(style='none'),\n",
    "                          bottom=Side(style='none'))\n",
    "for col in range(1, body_ws.max_column+1): \n",
    "    body_ws.cell(row=6, column=col).border = invisible_border\n",
    "    \n",
    "body_ws.auto_filter.ref = \"A6:Z6\"\n",
    "body_ws.title='All'"
   ]
  },
  {
   "cell_type": "code",
   "execution_count": 108,
   "id": "211c1454-ced7-468e-bde0-4e6134b50780",
   "metadata": {},
   "outputs": [],
   "source": [
    "# ### **Fill NPI in red**\n",
    "# if deployment=='PBACO':\n",
    "#     raw_wb=load_workbook(fr\"{path}\\Patient Alerts by Subscribed NPI incl.xlsx\")\n",
    "# else:\n",
    "#     raw_wb=load_workbook(fr\"{path}\\{deployment} Patient Alerts by Subscribed NPI incl.xlsx\",skiprows=8)\n",
    "# raw_ws=raw_wb.active\n",
    "# for i in range(10,raw_ws.max_row+1):\n",
    "#     print(raw_ws[fr'E{i}'].fill.start_color.rgb)\n",
    "#     print(raw_ws[fr'E{i}'].value)"
   ]
  },
  {
   "cell_type": "code",
   "execution_count": 109,
   "id": "6a448498-040c-4b28-aeab-987fe2427643",
   "metadata": {},
   "outputs": [
    {
     "name": "stdout",
     "output_type": "stream",
     "text": [
      "Step 2 Finished, file saved at: C:\\Users\\ZemingLiu\\OneDrive - PBACO\\Documents\\Weekly App Reports\\Derrell Macros\\Patient Alerts Macro\\1223-1229 Empire\\patient_alerts_working_Empire_1223-1229.xlsx\n"
     ]
    },
    {
     "name": "stdin",
     "output_type": "stream",
     "text": [
      "Enter Y when you are ready to continue y\n"
     ]
    },
    {
     "name": "stdout",
     "output_type": "stream",
     "text": [
      "Start looping consultant\n"
     ]
    }
   ],
   "source": [
    "#export\n",
    "body_wb.save(fr'{path}\\{export_filename}_{date_input}.xlsx')\n",
    "print(f'Step 2 Finished, file saved at: {path}\\\\{export_filename}_{date_input}.xlsx')\n",
    "continue_input=input('Enter Y when you are ready to continue')\n",
    "if continue_input.lower() == 'y' and Report_Type.lower()!='d':\n",
    "    print('Start looping consultant') #currently payor doesn't need to be loop for each pc\n",
    "else:\n",
    "    sys.exit()"
   ]
  },
  {
   "cell_type": "markdown",
   "id": "2c7e9e59-2795-455a-a135-2373f6d03384",
   "metadata": {
    "tags": []
   },
   "source": [
    "# **Part 3 Loop Consultant**"
   ]
  },
  {
   "cell_type": "code",
   "execution_count": 110,
   "id": "a698a52e-50fe-41c5-8f14-38c51c00c122",
   "metadata": {
    "tags": []
   },
   "outputs": [],
   "source": [
    "#unique_consultants = sorted(df['Provider Consultant'].unique())\n",
    "all_consultants = pd.read_excel(r\"C:\\Users\\ZemingLiu\\OneDrive - PBACO\\Documents\\Weekly App Reports\\Derrell Macros\\Patient Alerts Macro\\Derrell Patient Alerts Macro.xlsm\",sheet_name='Consultants')\n",
    "unique_consultants = sorted(all_consultants[all_consultants['ACO']==deployment]['Consultant'].tolist())\n",
    "for consultant in unique_consultants:\n",
    "    # Copy the original worksheet\n",
    "    new_sheet = body_wb.copy_worksheet(body_ws)\n",
    "    new_sheet.title = consultant\n",
    "    \n",
    "    # Iterate over rows starting from row 7 \n",
    "    rows_to_delete = []\n",
    "    for idx, row in enumerate(new_sheet.iter_rows(min_row=7, max_row=new_sheet.max_row, values_only=True), start=7):\n",
    "        if row[4] != consultant: \n",
    "            rows_to_delete.append(idx)  \n",
    "\n",
    "    # Remove rows from bottom to top to avoid index shifting\n",
    "    for row_num in sorted(rows_to_delete, reverse=True):\n",
    "        new_sheet.delete_rows(row_num)\n",
    "        new_sheet['A4'] = None"
   ]
  },
  {
   "cell_type": "code",
   "execution_count": 111,
   "id": "50a78437-a8e5-432e-890f-529b4b62acf0",
   "metadata": {},
   "outputs": [
    {
     "name": "stdout",
     "output_type": "stream",
     "text": [
      "Step 3 Loop Consultant Finished, file saved at: C:\\Users\\ZemingLiu\\OneDrive - PBACO\\Documents\\Weekly App Reports\\Derrell Macros\\Patient Alerts Macro\\1223-1229 Empire\\patient_alerts_working_Empire_1223-1229.xlsx\n"
     ]
    },
    {
     "name": "stdin",
     "output_type": "stream",
     "text": [
      "Enter Y when you are ready to continue y\n"
     ]
    },
    {
     "name": "stdout",
     "output_type": "stream",
     "text": [
      "Start Step 4, Save Excel and PDF\n"
     ]
    }
   ],
   "source": [
    "#export\n",
    "body_wb.save(fr'{path}\\{export_filename}_{date_input}.xlsx')\n",
    "print(f'Step 3 Loop Consultant Finished, file saved at: {path}\\{export_filename}_{date_input}.xlsx')\n",
    "header_wb.close()\n",
    "body_wb.close()\n",
    "\n",
    "continue_input=input('Enter Y when you are ready to continue')\n",
    "if  continue_input.lower()=='y':\n",
    "    print('Start Step 4, Save Excel and PDF')\n",
    "else:\n",
    "    sys.exit()"
   ]
  },
  {
   "cell_type": "markdown",
   "id": "3a7242bb-0aa5-4549-a61b-dbcef81992fc",
   "metadata": {},
   "source": [
    "# **Part 4 Save Excel And PDF**"
   ]
  },
  {
   "cell_type": "code",
   "execution_count": 112,
   "id": "904e95dc-df64-480c-b20a-3bf3a2fe292c",
   "metadata": {},
   "outputs": [],
   "source": [
    "import os\n",
    "import win32com.client as win32"
   ]
  },
  {
   "cell_type": "code",
   "execution_count": 113,
   "id": "e2de425d-beaf-48f3-be60-f0c166395edb",
   "metadata": {},
   "outputs": [],
   "source": [
    "# open workbook\n",
    "excel_app = win32.Dispatch('Excel.Application')\n",
    "excel_app.Visible = False  # Make the application invisible\n",
    "workbook = excel_app.Workbooks.Open(fr'{path}\\{export_filename}_{date_input}.xlsx')"
   ]
  },
  {
   "cell_type": "code",
   "execution_count": 114,
   "id": "af0b778f-2c8a-49fc-a1f5-e39fe1c2a124",
   "metadata": {
    "tags": []
   },
   "outputs": [],
   "source": [
    "#save the copy and print for each sheet\n",
    "if deployment=='PBACO':\n",
    "    folder_path=fr'{path}\\patient_alerts_{date_input}'\n",
    "else:\n",
    "    folder_path=fr'{path}\\patient_alerts_{deployment}_{date_input}'\n",
    "os.makedirs(folder_path, exist_ok=True)\n",
    "\n",
    "for sheet in workbook.Sheets:\n",
    "    sheetname=sheet.Name\n",
    "    \n",
    "    #save copy for each sheet\n",
    "    sheet.Copy()\n",
    "    new_workbook = excel_app.ActiveWorkbook\n",
    "    if deployment=='PBACO':\n",
    "        new_workbook.SaveAs(fr'{folder_path}\\patient_alerts_{sheetname}_{date_input}.xlsx')\n",
    "    else:\n",
    "        new_workbook.SaveAs(fr'{folder_path}\\patient_alerts_{sheetname}_{deployment}_{date_input}.xlsx')\n",
    "    \n",
    "    # Print to PDF\n",
    "    sheet.PageSetup.Orientation = 2  # Landscape\n",
    "    sheet.PageSetup.PaperSize = 5  # Tabloid 11\" x 17\"\n",
    "    sheet.PageSetup.Zoom = False\n",
    "    sheet.PageSetup.FitToPagesWide = 1  # Fit all columns on one page\n",
    "    sheet.PageSetup.FitToPagesTall = False  # Let rows span multiple pages\n",
    "    sheet.PageSetup.LeftMargin = 0.75\n",
    "    sheet.PageSetup.RightMargin = 0.75\n",
    "    sheet.PageSetup.TopMargin = 0.75\n",
    "    sheet.PageSetup.BottomMargin = 0.75\n",
    "    if deployment=='PBACO':\n",
    "        sheet.ExportAsFixedFormat(0, fr'{folder_path}\\patient_alerts_{sheetname}_{date_input}.pdf')\n",
    "    else:\n",
    "        sheet.ExportAsFixedFormat(0, fr'{folder_path}\\patient_alerts_{sheetname}_{deployment}_{date_input}.pdf')\n",
    "    \n",
    "    # Close the new workbook\n",
    "    new_workbook.Close(SaveChanges=False)"
   ]
  },
  {
   "cell_type": "code",
   "execution_count": 115,
   "id": "6a336b51-f0a7-418c-8bf3-2399d56dc66e",
   "metadata": {
    "tags": []
   },
   "outputs": [
    {
     "name": "stdout",
     "output_type": "stream",
     "text": [
      "Step 4 Save Excel And PDF finished, file saved at: C:\\Users\\ZemingLiu\\OneDrive - PBACO\\Documents\\Weekly App Reports\\Derrell Macros\\Patient Alerts Macro\\1223-1229 Empire\\patient_alerts_Empire_1223-1229, download alert by payor and app subscription files to the destination folder for the next step\n"
     ]
    }
   ],
   "source": [
    "# Close the workbook\n",
    "print(f'Step 4 Save Excel And PDF finished, file saved at: {folder_path}, download alert by payor and app subscription files to the destination folder for the next step')\n",
    "workbook.Close(SaveChanges=False)\n",
    "excel_app.Quit()"
   ]
  },
  {
   "cell_type": "code",
   "execution_count": 116,
   "id": "13c25f72-ef7e-4f8e-8b3d-22a097c88ea0",
   "metadata": {},
   "outputs": [],
   "source": [
    "#move raw file into a folder\n",
    "os.makedirs(fr'{path}\\Raw_Files', exist_ok=True)\n",
    "if deployment == 'PBACO':\n",
    "    shutil.move(fr\"{path}\\Patient Alerts by Subscribed NPI incl.xlsx\", fr\"{path}\\Raw_Files\\Patient Alerts by Subscribed NPI incl.xlsx\")\n",
    "else:\n",
    "    shutil.move(fr\"{path}\\{deployment} Patient Alerts by Subscribed NPI incl.xlsx\", fr\"{path}\\Raw_Files\\Patient Alerts by Subscribed NPI incl.xlsx\")"
   ]
  }
 ],
 "metadata": {
  "kernelspec": {
   "display_name": "Python 3 (ipykernel)",
   "language": "python",
   "name": "python3"
  },
  "language_info": {
   "codemirror_mode": {
    "name": "ipython",
    "version": 3
   },
   "file_extension": ".py",
   "mimetype": "text/x-python",
   "name": "python",
   "nbconvert_exporter": "python",
   "pygments_lexer": "ipython3",
   "version": "3.10.9"
  }
 },
 "nbformat": 4,
 "nbformat_minor": 5
}
