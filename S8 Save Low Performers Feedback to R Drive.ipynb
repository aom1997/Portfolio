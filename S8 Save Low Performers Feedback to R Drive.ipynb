{
 "cells": [
  {
   "cell_type": "markdown",
   "id": "af1d644d-6af4-45e4-9a60-e2e9d6e8de45",
   "metadata": {},
   "source": [
    "# **S8_Save Low Performer Feedback to R Drive**"
   ]
  },
  {
   "cell_type": "code",
   "execution_count": 1,
   "id": "4d5e89b8-5fdf-441b-8f9f-511ef89d6f56",
   "metadata": {
    "tags": []
   },
   "outputs": [
    {
     "name": "stdin",
     "output_type": "stream",
     "text": [
      "Enter date as mmdd-mmdd:  1209-1215\n"
     ]
    },
    {
     "name": "stdout",
     "output_type": "stream",
     "text": [
      "File has been saved at R:\\Patient Alerts Low Performer Feedback - NHNP\\low_app_performer_feedback_1209-1215_NHNP (Week 50)\n"
     ]
    }
   ],
   "source": [
    "import os\n",
    "import win32com.client as win32\n",
    "import re\n",
    "\n",
    "date_input=input('Enter date as mmdd-mmdd: ')\n",
    "excel_app=win32.Dispatch('Excel.Application')\n",
    "    \n",
    "for deployment in ['PBACO','NHNP']:\n",
    "    #retrive export file path\n",
    "    if deployment=='PBACO':\n",
    "        import_filepath=fr'C:\\Users\\ZemingLiu\\OneDrive - PBACO\\Documents\\Weekly App Reports\\Derrell Macros\\Patient Alerts Macro\\{date_input} {deployment}\\Low_App_Performers_ongoing_{date_input}.xlsx'\n",
    "        export_directory=fr'R:\\Patient Alerts Low Performer Feedback'\n",
    "        export_filepath=fr'{export_directory}\\low_app_performer_feedback_{date_input}'\n",
    "    else:\n",
    "        import_filepath=fr'C:\\Users\\ZemingLiu\\OneDrive - PBACO\\Documents\\Weekly App Reports\\Derrell Macros\\Patient Alerts Macro\\{date_input} {deployment}\\Low_App_Performers_ongoing_{deployment}_{date_input}.xlsx'\n",
    "        export_directory=fr'R:\\Patient Alerts Low Performer Feedback - {deployment}'\n",
    "        export_filepath=fr'{export_directory}\\low_app_performer_feedback_{date_input}_{deployment}'\n",
    "   \n",
    "    for filename in os.listdir(export_directory):\n",
    "        if filename.endswith('.xlsx'):\n",
    "            start=filename.find('Week')+len('Week ')\n",
    "            end=filename.find(')')\n",
    "            week=0\n",
    "            if int(filename[start:end])> week:\n",
    "                week=int(filename[start:end])\n",
    "    export_filepath=fr'{export_filepath} (Week {week+2})'\n",
    "    \n",
    "    #save the excel sheet to export file path\n",
    "    wb=excel_app.Workbooks.Open(import_filepath)\n",
    "    for ws in wb.Sheets:\n",
    "        if ws.Name==date_input:\n",
    "            ws.Copy()\n",
    "            new_wb=excel_app.ActiveWorkbook\n",
    "            new_wb.SaveAs(export_filepath)\n",
    "            wb.Close(SaveChanges=False)\n",
    "            new_wb.Close()\n",
    "            \n",
    "print(fr'File has been saved at {export_filepath}')\n",
    "excel_app.Quit()    "
   ]
  },
  {
   "cell_type": "code",
   "execution_count": null,
   "id": "5c0a870d-3c30-4dbb-ba2f-9c6eb4b185a7",
   "metadata": {},
   "outputs": [],
   "source": []
  }
 ],
 "metadata": {
  "kernelspec": {
   "display_name": "Python 3 (ipykernel)",
   "language": "python",
   "name": "python3"
  },
  "language_info": {
   "codemirror_mode": {
    "name": "ipython",
    "version": 3
   },
   "file_extension": ".py",
   "mimetype": "text/x-python",
   "name": "python",
   "nbconvert_exporter": "python",
   "pygments_lexer": "ipython3",
   "version": "3.10.9"
  }
 },
 "nbformat": 4,
 "nbformat_minor": 5
}
