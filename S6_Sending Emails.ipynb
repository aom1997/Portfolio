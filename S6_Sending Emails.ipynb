{
 "cells": [
  {
   "cell_type": "markdown",
   "id": "152a9aea-b5fa-42e3-900f-5dcafb7f5db9",
   "metadata": {},
   "source": [
    "# **S6_Send Emails**"
   ]
  },
  {
   "cell_type": "markdown",
   "id": "19223cc4-304a-483b-9f4f-d8b8b5a897dc",
   "metadata": {},
   "source": [
    "# **Part 1 Copy Files**"
   ]
  },
  {
   "cell_type": "code",
   "execution_count": 1,
   "id": "f0a3fd37-6d8c-45ed-a732-6300dc55d738",
   "metadata": {
    "tags": []
   },
   "outputs": [
    {
     "name": "stdin",
     "output_type": "stream",
     "text": [
      "Enter the date frame as mmdd-mmdd:  1223-1229\n"
     ]
    }
   ],
   "source": [
    "#define function\n",
    "import os\n",
    "import shutil\n",
    "date_input=input('Enter the date frame as mmdd-mmdd: ')\n",
    "destination_folder_path=fr'C:\\Users\\ZemingLiu\\OneDrive - PBACO\\Documents\\Weekly App Reports\\Derrell Macros\\Mail Merge Macro\\{date_input}'\n",
    "\n",
    "def Copy_File(source_folder_path,destination_folder_path):\n",
    "    os.makedirs(destination_folder_path, exist_ok=True)\n",
    "    for filename in os.listdir(source_folder_path):\n",
    "        source_file_path = os.path.join(source_folder_path,filename)\n",
    "        if os.path.isfile(source_file_path):#move files only, do not move folder\n",
    "            destination_file_path = os.path.join(destination_folder_path, filename)\n",
    "            shutil.copy(source_file_path,destination_file_path)"
   ]
  },
  {
   "cell_type": "code",
   "execution_count": 2,
   "id": "e867edb1-fe56-4314-b6c2-7a5da0963f3a",
   "metadata": {},
   "outputs": [
    {
     "data": {
      "text/plain": [
       "'C:\\\\Users\\\\ZemingLiu\\\\OneDrive - PBACO\\\\Documents\\\\Weekly App Reports\\\\Derrell Macros\\\\Mail Merge Macro\\\\1223-1229\\\\TCM_PDV Audit Tracker 2024.xlsx'"
      ]
     },
     "execution_count": 2,
     "metadata": {},
     "output_type": "execute_result"
    }
   ],
   "source": [
    "#move patient alerts files to email folder\n",
    "Copy_File(fr'C:\\Users\\ZemingLiu\\OneDrive - PBACO\\Documents\\Weekly App Reports\\Derrell Macros\\Patient Alerts Macro\\{date_input} PBACO',destination_folder_path) \n",
    "Copy_File(fr'C:\\Users\\ZemingLiu\\OneDrive - PBACO\\Documents\\Weekly App Reports\\Derrell Macros\\Patient Alerts Macro\\{date_input} PBACO\\patient_alerts_{date_input}',destination_folder_path) #all files for individual pc\n",
    "\n",
    "Copy_File(fr'C:\\Users\\ZemingLiu\\OneDrive - PBACO\\Documents\\Weekly App Reports\\Derrell Macros\\Patient Alerts Macro\\{date_input} NHNP',destination_folder_path)\n",
    "Copy_File(fr'C:\\Users\\ZemingLiu\\OneDrive - PBACO\\Documents\\Weekly App Reports\\Derrell Macros\\Patient Alerts Macro\\{date_input} NHNP\\patient_alerts_NHNP_{date_input}',destination_folder_path)\n",
    "\n",
    "Copy_File(fr'C:\\Users\\ZemingLiu\\OneDrive - PBACO\\Documents\\Weekly App Reports\\Derrell Macros\\Patient Alerts Macro\\{date_input} Empire',destination_folder_path)\n",
    "Copy_File(fr'C:\\Users\\ZemingLiu\\OneDrive - PBACO\\Documents\\Weekly App Reports\\Derrell Macros\\Patient Alerts Macro\\{date_input} Empire\\patient_alerts_Empire_{date_input}',destination_folder_path)\n",
    "\n",
    "#move App usage Overview\n",
    "shutil.copy(fr'R:\\Patient Alerts By Subscribed NPI\\2024 App Performance PBACO.xlsx',destination_folder_path)\n",
    "shutil.copy(fr'R:\\Patient Alerts By Subscribed NPI - NHNP\\2024 App Performance NHNP.xlsx',destination_folder_path)\n",
    "shutil.copy(fr'R:\\Patient Alerts By Subscribed NPI - Empire\\2024 App Performance Empire.xlsx',destination_folder_path)\n",
    "\n",
    "#move Escalation Policy\n",
    "shutil.copy(fr'C:\\Users\\ZemingLiu\\OneDrive - PBACO\\Documents\\Weekly App Reports\\Derrell Macros\\Mail Merge Macro\\Escalation Policy Draft_SuperDOC ACO App_JB_v.3.pdf',destination_folder_path)\n",
    "\n",
    "#move TCM_PDV\n",
    "shutil.copy(fr'C:\\Users\\ZemingLiu\\OneDrive - PBACO\\Documents\\Weekly App Reports\\Derrell Macros\\Patient Alerts Macro\\TCM_PDV Audit Tracker 2024.xlsx',destination_folder_path)"
   ]
  },
  {
   "cell_type": "markdown",
   "id": "8de459e9-f3f1-4c47-88e2-b350ff640aa5",
   "metadata": {},
   "source": [
    "# **Part 2 Send Emails**"
   ]
  },
  {
   "cell_type": "code",
   "execution_count": 3,
   "id": "4742c900-a643-40e0-adb0-9bfd92bc8891",
   "metadata": {
    "tags": []
   },
   "outputs": [],
   "source": [
    "import win32com.client as win32\n",
    "import time\n",
    "from win32clipboard import OpenClipboard, GetClipboardData, CloseClipboard\n",
    "\n",
    "#open excel email workbook\n",
    "excel_app = win32.Dispatch('Excel.Application')\n",
    "excel_app.Visible = True\n",
    "wb = excel_app.Workbooks.Open(r'C:\\Users\\ZemingLiu\\OneDrive - PBACO\\Documents\\Weekly App Reports\\Derrell Macros\\Mail Merge Macro\\Derrell Mail Merge Macro.xlsm')\n",
    "outlook_app = win32.Dispatch('Outlook.Application')"
   ]
  },
  {
   "cell_type": "code",
   "execution_count": 54,
   "id": "5192d90a-742a-4788-bcd9-e486247901d8",
   "metadata": {
    "tags": []
   },
   "outputs": [],
   "source": [
    "def create_outlook_email(i): \n",
    "    #template\n",
    "    template_path = fr\"C:\\Users\\ZemingLiu\\OneDrive - PBACO\\Documents\\Weekly App Reports\\Derrell Macros\\Mail Merge Macro\\{ws.Range(f'C{i}').Value}\"\n",
    "    email = outlook_app.CreateItemFromTemplate(template_path)\n",
    "    \n",
    "    #modify the email\n",
    "    email.Subject = ws.Range(f'G{i}').Value\n",
    "    email.Body = email.Body.replace(\"[date_range]\", date_input)\n",
    "    email.Body = email.Body.replace(\"[date_label]\", date_input)\n",
    "    email.To = ws.Range(f'D{i}').Value\n",
    "    email.CC=ws.Range(f'F{i}').Value if ws.Range(f'F{i}').Value else \"\" \n",
    "    \n",
    "    #define visible rows function\n",
    "    def get_visible_rows(worksheet):\n",
    "        visible_rows = []\n",
    "        used_range = worksheet.UsedRange\n",
    "        for row in used_range.Rows:\n",
    "            if not row.Hidden and row.Cells(1, 1).Value is not None:  # Check if the row is visible and not empty\n",
    "                visible_rows.append(row)\n",
    "        return visible_rows\n",
    "    \n",
    "    #attachment\n",
    "    filenames=ws.Range(fr'I{i}').Value.split(';')\n",
    "    for filename in filenames:\n",
    "        filename=filename.strip()\n",
    "        if ws.Name == 'PBACO_LowApp': #for low performer email, copy and paste into the email\n",
    "            lowperformers_wb=excel_app.Workbooks.Open(fr'C:\\Users\\ZemingLiu\\OneDrive - PBACO\\Documents\\Weekly App Reports\\Derrell Macros\\Mail Merge Macro\\{date_input}\\{filename}')\n",
    "            lowperformers_ws=lowperformers_wb.Sheets(f'{date_input}')\n",
    "            \n",
    "            #add filters\n",
    "            if lowperformers_ws.AutoFilterMode:# Clear existing filters\n",
    "                lowperformers_ws.AutoFilterMode = False \n",
    "            lowperformers_ws.Range(  # Apply filter\n",
    "                lowperformers_ws.Cells(1, 1),\n",
    "                lowperformers_ws.Cells(1, lowperformers_ws.UsedRange.Columns.Count)\n",
    "            ).AutoFilter(\n",
    "                Field=5,  # Provider Consultant\n",
    "                Criteria1=ws.Range(f'B{i}').Value\n",
    "            )\n",
    "            \n",
    "            #check if skip pc\n",
    "            visible_rows = get_visible_rows(lowperformers_ws)\n",
    "            print(len(visible_rows))\n",
    "            if len(visible_rows) <= 1:\n",
    "                print(\"No data available to copy, skip this PC\")\n",
    "                return     \n",
    "            else:\n",
    "                #copy the data and paste to email body\n",
    "                visible_data = lowperformers_ws.UsedRange.SpecialCells(12)\n",
    "                visible_data.Copy()\n",
    "                time.sleep(1) \n",
    "                word_editor = email.GetInspector.WordEditor\n",
    "                paragraphs = word_editor.Paragraphs\n",
    "                paragraphs[1].Range.Select()\n",
    "                word_editor.Application.Selection.Paste() # Paste content\n",
    "                excel_app.CutCopyMode = False\n",
    "                email.Display()\n",
    "            lowperformers_wb.Close(SaveChanges=0)\n",
    "        else:\n",
    "            email.Attachments.Add(fr\"C:\\Users\\ZemingLiu\\OneDrive - PBACO\\Documents\\Weekly App Reports\\Derrell Macros\\Mail Merge Macro\\{date_input}\\{filename}\")\n",
    "            email.Display()"
   ]
  },
  {
   "cell_type": "code",
   "execution_count": 5,
   "id": "25dfdb6f-2374-4988-a4fa-35468e736d8e",
   "metadata": {
    "collapsed": true,
    "jupyter": {
     "outputs_hidden": true
    },
    "tags": []
   },
   "outputs": [
    {
     "name": "stdout",
     "output_type": "stream",
     "text": [
      "Processing Alexis\n",
      "Processing Amie\n",
      "Processing Andres D\n",
      "Processing Andres\n",
      "Processing Brian\n",
      "Processing Christina\n",
      "Processing Cynthia\n",
      "Processing Daimarys\n",
      "Processing David T\n",
      "Processing Deanna\n",
      "Processing Drew\n",
      "Processing Diamarys\n",
      "Processing Emily\n",
      "Processing Fabian\n",
      "Processing George\n",
      "Processing Gianfranco\n",
      "Processing Gisselle\n",
      "Processing Heidi\n",
      "Processing Holly G\n",
      "Processing Jamilin\n",
      "Processing Karina\n",
      "Processing Kendra\n",
      "Processing Katherine\n",
      "Processing Katiann\n",
      "Processing Keith\n",
      "Processing Matt\n",
      "Processing Mackenzie\n",
      "Processing Monti\n",
      "Processing Natalie\n",
      "Processing Ondina \n",
      "Processing Parath\n",
      "Processing Rachel\n",
      "Processing Rejane\n",
      "Processing Sharada\n",
      "Processing Trent\n",
      "Processing Gianna + Jolea (send their PBACO and NHNP files together in the same email as they work together)\n",
      "Processing Callie\n",
      "Processing Nancy (send PBACO and NHNP file in same email)\n",
      "Processing Nathalia\n",
      "Processing Shymara\n",
      "Processing Lindy\n",
      "Processing Tiffany (send PBACO and Empire file in same email)\n",
      "Processing Wadha\n",
      "Processing Susan\n"
     ]
    }
   ],
   "source": [
    "#Patient Alerts\n",
    "ws=wb.Sheets('PBACO_PAlert') #initialize the list to generate email\n",
    "ws.Range('H2').Value=date_input\n",
    "for i in range(2,ws.UsedRange.Rows.Count):\n",
    "    print(fr\"Processing {ws.Range(f'A{i}').Value}\")\n",
    "    create_outlook_email(i)"
   ]
  },
  {
   "cell_type": "code",
   "execution_count": 55,
   "id": "6e06a2e1-a381-4582-908d-cd90c464d500",
   "metadata": {
    "tags": []
   },
   "outputs": [
    {
     "name": "stdout",
     "output_type": "stream",
     "text": [
      "Processing Alexis\n",
      "1\n",
      "No data available to copy, skip this PC\n",
      "Processing Amie\n",
      "8\n",
      "Processing Andres D\n",
      "4\n",
      "Processing Andres\n",
      "4\n",
      "Processing Brian\n",
      "7\n",
      "Processing Christina\n",
      "4\n",
      "Processing Cynthia\n",
      "4\n",
      "Processing Daimarys\n",
      "9\n",
      "Processing Diamarys\n",
      "15\n",
      "Processing Drew\n",
      "7\n",
      "Processing Fabian\n",
      "1\n",
      "No data available to copy, skip this PC\n",
      "Processing George\n",
      "9\n",
      "Processing Gianfranco\n",
      "9\n",
      "Processing Nicole\n",
      "8\n",
      "Processing Gianna + Jolea \n",
      "(send their PBACO and  NHNP files together in the same email as they work together)\n",
      "6\n",
      "Processing Gianna + Jolea \n",
      "(send their PBACO, AHP, NHNP files together in the same email as they work together)\n",
      "29\n",
      "Processing Gisselle\n",
      "12\n",
      "Processing Heidi\n",
      "9\n",
      "Processing Holly G\n",
      "1\n",
      "No data available to copy, skip this PC\n",
      "Processing Karina\n",
      "1\n",
      "No data available to copy, skip this PC\n",
      "Processing Kendra\n",
      "11\n",
      "Processing Katherine\n",
      "7\n",
      "Processing Katiann\n",
      "27\n",
      "Processing Matt\n",
      "5\n",
      "Processing Mackenzie\n",
      "4\n",
      "Processing Monti\n",
      "16\n",
      "Processing Natalie\n",
      "10\n",
      "Processing Ondina\n",
      "10\n",
      "Processing Parath\n",
      "5\n",
      "Processing Jamilin\n",
      "5\n",
      "Processing Keith\n",
      "1\n",
      "No data available to copy, skip this PC\n",
      "Processing Rachel\n",
      "2\n",
      "Processing Shymara\n",
      "14\n",
      "Processing Trent\n",
      "4\n",
      "Processing Wadha\n",
      "1\n",
      "No data available to copy, skip this PC\n",
      "Processing Callie\n",
      "17\n",
      "Processing Nathalia\n",
      "6\n",
      "Processing Susan\n",
      "13\n",
      "Processing Lindy\n",
      "6\n",
      "Processing Rejane\n",
      "4\n",
      "Processing Sharada\n",
      "6\n",
      "Processing Nancy (Send NHNP and PBACO  file in same email)\n",
      "1\n",
      "No data available to copy, skip this PC\n",
      "Processing Nancy (Send NHNP and PBACO  file in same email)\n",
      "2\n",
      "Processing Tiffany\n",
      "1\n",
      "No data available to copy, skip this PC\n",
      "Processing Tiffany\n",
      "15\n"
     ]
    }
   ],
   "source": [
    "#Low Performers\n",
    "ws=wb.Sheets('PBACO_LowApp') #choose which list to generate email\n",
    "ws.Range('H2').Value=date_input\n",
    "for i in range(2,ws.UsedRange.Rows.Count):\n",
    "    print(fr\"Processing {ws.Range(f'A{i}').Value}\")\n",
    "    create_outlook_email(i)"
   ]
  },
  {
   "cell_type": "code",
   "execution_count": 56,
   "id": "41a0ae6e-5b0d-4425-a3c4-5904d99fff64",
   "metadata": {
    "tags": []
   },
   "outputs": [
    {
     "name": "stdout",
     "output_type": "stream",
     "text": [
      "Processing PBACO Patient Activity to Leadership Template.oft\n",
      "Processing NHNP Patient Activity to Leadership Template.oft\n",
      "Processing Empire Patient Activity to Leadership Template.oft\n"
     ]
    }
   ],
   "source": [
    "#Leadership\n",
    "ws=wb.Sheets('leadership') #choose which list to generate email\n",
    "ws.Range('H2').Value=date_input\n",
    "for i in range(2,5):\n",
    "    print(fr\"Processing {ws.Range(f'C{i}').Value}\")\n",
    "    create_outlook_email(i)"
   ]
  },
  {
   "cell_type": "code",
   "execution_count": 79,
   "id": "2fb8e62b-4d4c-4154-99cd-30cf04e5c13a",
   "metadata": {
    "collapsed": true,
    "jupyter": {
     "outputs_hidden": true
    },
    "tags": []
   },
   "outputs": [
    {
     "ename": "com_error",
     "evalue": "(-2147417848, 'The object invoked has disconnected from its clients.', None, None)",
     "output_type": "error",
     "traceback": [
      "\u001b[1;31m---------------------------------------------------------------------------\u001b[0m",
      "\u001b[1;31mcom_error\u001b[0m                                 Traceback (most recent call last)",
      "Cell \u001b[1;32mIn[79], line 1\u001b[0m\n\u001b[1;32m----> 1\u001b[0m \u001b[43mwb\u001b[49m\u001b[38;5;241;43m.\u001b[39;49m\u001b[43mClose\u001b[49m\u001b[43m(\u001b[49m\u001b[43mSaveChanges\u001b[49m\u001b[38;5;241;43m=\u001b[39;49m\u001b[38;5;28;43;01mFalse\u001b[39;49;00m\u001b[43m)\u001b[49m\n\u001b[0;32m      2\u001b[0m excel_app\u001b[38;5;241m.\u001b[39mQuit()\n",
      "File \u001b[1;32mC:\\Anaconda\\lib\\site-packages\\win32com\\gen_py\\00020813-0000-0000-C000-000000000046x0x1x9.py:46676\u001b[0m, in \u001b[0;36m_Workbook.Close\u001b[1;34m(self, SaveChanges, Filename, RouteWorkbook)\u001b[0m\n\u001b[0;32m  46675\u001b[0m \u001b[38;5;28;01mdef\u001b[39;00m \u001b[38;5;21mClose\u001b[39m(\u001b[38;5;28mself\u001b[39m, SaveChanges\u001b[38;5;241m=\u001b[39mdefaultNamedOptArg, Filename\u001b[38;5;241m=\u001b[39mdefaultNamedOptArg, RouteWorkbook\u001b[38;5;241m=\u001b[39mdefaultNamedOptArg):\n\u001b[1;32m> 46676\u001b[0m \t\u001b[38;5;28;01mreturn\u001b[39;00m \u001b[38;5;28;43mself\u001b[39;49m\u001b[38;5;241;43m.\u001b[39;49m\u001b[43m_oleobj_\u001b[49m\u001b[38;5;241;43m.\u001b[39;49m\u001b[43mInvokeTypes\u001b[49m\u001b[43m(\u001b[49m\u001b[38;5;241;43m277\u001b[39;49m\u001b[43m,\u001b[49m\u001b[43m \u001b[49m\u001b[43mLCID\u001b[49m\u001b[43m,\u001b[49m\u001b[43m \u001b[49m\u001b[38;5;241;43m1\u001b[39;49m\u001b[43m,\u001b[49m\u001b[43m \u001b[49m\u001b[43m(\u001b[49m\u001b[38;5;241;43m24\u001b[39;49m\u001b[43m,\u001b[49m\u001b[43m \u001b[49m\u001b[38;5;241;43m0\u001b[39;49m\u001b[43m)\u001b[49m\u001b[43m,\u001b[49m\u001b[43m \u001b[49m\u001b[43m(\u001b[49m\u001b[43m(\u001b[49m\u001b[38;5;241;43m12\u001b[39;49m\u001b[43m,\u001b[49m\u001b[43m \u001b[49m\u001b[38;5;241;43m17\u001b[39;49m\u001b[43m)\u001b[49m\u001b[43m,\u001b[49m\u001b[43m \u001b[49m\u001b[43m(\u001b[49m\u001b[38;5;241;43m12\u001b[39;49m\u001b[43m,\u001b[49m\u001b[43m \u001b[49m\u001b[38;5;241;43m17\u001b[39;49m\u001b[43m)\u001b[49m\u001b[43m,\u001b[49m\u001b[43m \u001b[49m\u001b[43m(\u001b[49m\u001b[38;5;241;43m12\u001b[39;49m\u001b[43m,\u001b[49m\u001b[43m \u001b[49m\u001b[38;5;241;43m17\u001b[39;49m\u001b[43m)\u001b[49m\u001b[43m)\u001b[49m\u001b[43m,\u001b[49m\u001b[43mSaveChanges\u001b[49m\n\u001b[0;32m  46677\u001b[0m \u001b[43m\t\t\u001b[49m\u001b[43m,\u001b[49m\u001b[43m \u001b[49m\u001b[43mFilename\u001b[49m\u001b[43m,\u001b[49m\u001b[43m \u001b[49m\u001b[43mRouteWorkbook\u001b[49m\u001b[43m)\u001b[49m\n",
      "\u001b[1;31mcom_error\u001b[0m: (-2147417848, 'The object invoked has disconnected from its clients.', None, None)"
     ]
    }
   ],
   "source": [
    "wb.Close(SaveChanges=False)\n",
    "excel_app.Quit()"
   ]
  }
 ],
 "metadata": {
  "kernelspec": {
   "display_name": "Python 3 (ipykernel)",
   "language": "python",
   "name": "python3"
  },
  "language_info": {
   "codemirror_mode": {
    "name": "ipython",
    "version": 3
   },
   "file_extension": ".py",
   "mimetype": "text/x-python",
   "name": "python",
   "nbconvert_exporter": "python",
   "pygments_lexer": "ipython3",
   "version": "3.10.9"
  }
 },
 "nbformat": 4,
 "nbformat_minor": 5
}
