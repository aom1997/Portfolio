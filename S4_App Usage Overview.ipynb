{
 "cells": [
  {
   "cell_type": "markdown",
   "id": "9a3e8b8d-3d86-44d2-8680-e9625e287ffa",
   "metadata": {},
   "source": [
    "# **S4_App Usage Overview**"
   ]
  },
  {
   "cell_type": "code",
   "execution_count": 1,
   "id": "4c19477e-b9df-4252-b1b6-cac48cb21ece",
   "metadata": {},
   "outputs": [],
   "source": [
    "import pandas as pd\n",
    "import numpy as np\n",
    "import os\n",
    "from datetime import datetime, timedelta"
   ]
  },
  {
   "cell_type": "code",
   "execution_count": 2,
   "id": "f4644518-b9d0-4dd5-9cf9-51423919e8be",
   "metadata": {},
   "outputs": [
    {
     "name": "stdin",
     "output_type": "stream",
     "text": [
      "Start date is 20240101, enter the end date as yyyymmdd 20241229\n"
     ]
    },
    {
     "name": "stdout",
     "output_type": "stream",
     "text": [
      "Report time frame:20240101 to 20241229\n"
     ]
    }
   ],
   "source": [
    "from_date='20240101'\n",
    "to_date=input(fr'Start date is {from_date}, enter the end date as yyyymmdd')\n",
    "print(fr'Report time frame:{from_date} to {to_date}')"
   ]
  },
  {
   "cell_type": "code",
   "execution_count": 3,
   "id": "dc57625b-aa6a-4513-85e2-a51bf24f446e",
   "metadata": {},
   "outputs": [
    {
     "name": "stdout",
     "output_type": "stream",
     "text": [
      "Data saved for deployment PBACO at R:\\Patient Alerts By Subscribed NPI\\2024 App Performance PBACO.xlsx\n",
      "Data saved for deployment NHNP at R:\\Patient Alerts By Subscribed NPI - NHNP\\2024 App Performance NHNP.xlsx\n",
      "File not found: R:\\Patient Alerts By Subscribed NPI - Empire\\0101-0107\\patient_alerts_All_Empire_0101-0107.xlsx\n",
      "File not found: R:\\Patient Alerts By Subscribed NPI - Empire\\0108-0114\\patient_alerts_All_Empire_0108-0114.xlsx\n",
      "File not found: R:\\Patient Alerts By Subscribed NPI - Empire\\0115-0121\\patient_alerts_All_Empire_0115-0121.xlsx\n",
      "File not found: R:\\Patient Alerts By Subscribed NPI - Empire\\0122-0128\\patient_alerts_All_Empire_0122-0128.xlsx\n",
      "File not found: R:\\Patient Alerts By Subscribed NPI - Empire\\0129-0204\\patient_alerts_All_Empire_0129-0204.xlsx\n",
      "File not found: R:\\Patient Alerts By Subscribed NPI - Empire\\0205-0211\\patient_alerts_All_Empire_0205-0211.xlsx\n",
      "File not found: R:\\Patient Alerts By Subscribed NPI - Empire\\0212-0218\\patient_alerts_All_Empire_0212-0218.xlsx\n",
      "File not found: R:\\Patient Alerts By Subscribed NPI - Empire\\0219-0225\\patient_alerts_All_Empire_0219-0225.xlsx\n",
      "File not found: R:\\Patient Alerts By Subscribed NPI - Empire\\0226-0303\\patient_alerts_All_Empire_0226-0303.xlsx\n",
      "File not found: R:\\Patient Alerts By Subscribed NPI - Empire\\0304-0310\\patient_alerts_All_Empire_0304-0310.xlsx\n",
      "File not found: R:\\Patient Alerts By Subscribed NPI - Empire\\0311-0317\\patient_alerts_All_Empire_0311-0317.xlsx\n",
      "File not found: R:\\Patient Alerts By Subscribed NPI - Empire\\0318-0324\\patient_alerts_All_Empire_0318-0324.xlsx\n",
      "File not found: R:\\Patient Alerts By Subscribed NPI - Empire\\0325-0331\\patient_alerts_All_Empire_0325-0331.xlsx\n",
      "File not found: R:\\Patient Alerts By Subscribed NPI - Empire\\0401-0407\\patient_alerts_All_Empire_0401-0407.xlsx\n",
      "File not found: R:\\Patient Alerts By Subscribed NPI - Empire\\0408-0414\\patient_alerts_All_Empire_0408-0414.xlsx\n",
      "File not found: R:\\Patient Alerts By Subscribed NPI - Empire\\0415-0421\\patient_alerts_All_Empire_0415-0421.xlsx\n",
      "File not found: R:\\Patient Alerts By Subscribed NPI - Empire\\0422-0428\\patient_alerts_All_Empire_0422-0428.xlsx\n",
      "File not found: R:\\Patient Alerts By Subscribed NPI - Empire\\0429-0505\\patient_alerts_All_Empire_0429-0505.xlsx\n",
      "File not found: R:\\Patient Alerts By Subscribed NPI - Empire\\0506-0512\\patient_alerts_All_Empire_0506-0512.xlsx\n",
      "File not found: R:\\Patient Alerts By Subscribed NPI - Empire\\0513-0519\\patient_alerts_All_Empire_0513-0519.xlsx\n",
      "File not found: R:\\Patient Alerts By Subscribed NPI - Empire\\0520-0526\\patient_alerts_All_Empire_0520-0526.xlsx\n",
      "File not found: R:\\Patient Alerts By Subscribed NPI - Empire\\0527-0602\\patient_alerts_All_Empire_0527-0602.xlsx\n",
      "File not found: R:\\Patient Alerts By Subscribed NPI - Empire\\0603-0609\\patient_alerts_All_Empire_0603-0609.xlsx\n",
      "File not found: R:\\Patient Alerts By Subscribed NPI - Empire\\0610-0616\\patient_alerts_All_Empire_0610-0616.xlsx\n",
      "File not found: R:\\Patient Alerts By Subscribed NPI - Empire\\0617-0623\\patient_alerts_All_Empire_0617-0623.xlsx\n",
      "File not found: R:\\Patient Alerts By Subscribed NPI - Empire\\0624-0630\\patient_alerts_All_Empire_0624-0630.xlsx\n",
      "File not found: R:\\Patient Alerts By Subscribed NPI - Empire\\0701-0707\\patient_alerts_All_Empire_0701-0707.xlsx\n",
      "File not found: R:\\Patient Alerts By Subscribed NPI - Empire\\0708-0714\\patient_alerts_All_Empire_0708-0714.xlsx\n",
      "File not found: R:\\Patient Alerts By Subscribed NPI - Empire\\0715-0721\\patient_alerts_All_Empire_0715-0721.xlsx\n",
      "File not found: R:\\Patient Alerts By Subscribed NPI - Empire\\0722-0728\\patient_alerts_All_Empire_0722-0728.xlsx\n",
      "File not found: R:\\Patient Alerts By Subscribed NPI - Empire\\0729-0804\\patient_alerts_All_Empire_0729-0804.xlsx\n",
      "File not found: R:\\Patient Alerts By Subscribed NPI - Empire\\0805-0811\\patient_alerts_All_Empire_0805-0811.xlsx\n",
      "File not found: R:\\Patient Alerts By Subscribed NPI - Empire\\0812-0818\\patient_alerts_All_Empire_0812-0818.xlsx\n",
      "File not found: R:\\Patient Alerts By Subscribed NPI - Empire\\0819-0825\\patient_alerts_All_Empire_0819-0825.xlsx\n",
      "File not found: R:\\Patient Alerts By Subscribed NPI - Empire\\0826-0901\\patient_alerts_All_Empire_0826-0901.xlsx\n",
      "Data saved for deployment Empire at R:\\Patient Alerts By Subscribed NPI - Empire\\2024 App Performance Empire.xlsx\n"
     ]
    }
   ],
   "source": [
    "# Initialize lists to store extracted data\n",
    "deployments = ['PBACO', 'NHNP', 'Empire']  # Fixed typo in deployments list\n",
    "\n",
    "# Iterate over each deployment\n",
    "for deployment in deployments:\n",
    "    time_frame_list = []\n",
    "    Actions_list = []\n",
    "    Reads_list = []\n",
    "    current_date = from_date  # Reset to the starting date for each deployment\n",
    "    \n",
    "    # while loop to import each week's app report through weekly intervals until reaching 'to_date'\n",
    "    while datetime.strptime(current_date, '%Y%m%d') <= datetime.strptime(to_date, '%Y%m%d'):     \n",
    "        # Calculate the end date for the current week\n",
    "        week_end_date = (datetime.strptime(current_date, '%Y%m%d') + timedelta(days=6)).strftime('%m%d')    \n",
    "        # Determine the correct file path based on the deployment\n",
    "        if deployment == 'PBACO':\n",
    "            file_path = rf\"R:\\Patient Alerts By Subscribed NPI\\{current_date[4:]}-{week_end_date}\\patient_alerts_All_{current_date[4:]}-{week_end_date}.xlsx\"\n",
    "        elif deployment == 'NHNP':\n",
    "            file_path = rf\"R:\\Patient Alerts By Subscribed NPI - NHNP\\{current_date[4:]}-{week_end_date}\\patient_alerts_All_NHNP_{current_date[4:]}-{week_end_date}.xlsx\"\n",
    "        elif deployment == 'Empire':\n",
    "            file_path = rf\"R:\\Patient Alerts By Subscribed NPI - Empire\\{current_date[4:]}-{week_end_date}\\patient_alerts_All_Empire_{current_date[4:]}-{week_end_date}.xlsx\"\n",
    "        \n",
    "        # Read the specified file and extract required information: timeframe, read_percentage,action_percentage\n",
    "        try:\n",
    "            Header = pd.read_excel(file_path, nrows=5)\n",
    "            time_frame_list.append(Header.iloc[0, 0])\n",
    "            Actions_list.append(Header.iloc[2, 0][31:37])\n",
    "            Reads_list.append(Header.iloc[2, 0][69:])\n",
    "        except FileNotFoundError:\n",
    "            print(f\"File not found: {file_path}\")\n",
    "        \n",
    "        # Advance to the next week\n",
    "        current_date = (datetime.strptime(current_date, '%Y%m%d') + timedelta(days=7)).strftime('%Y%m%d')\n",
    "    \n",
    "    # Save results to an Excel file for each deployment\n",
    "    df = pd.DataFrame({\n",
    "        'TimeFrame': time_frame_list,\n",
    "        'Pts With Actions(%) Aggregate': Actions_list,\n",
    "        'Pts Read(%) Aggregate': Reads_list\n",
    "    })\n",
    "    \n",
    "    if deployment == 'PBACO':\n",
    "        output_path =rf\"R:\\Patient Alerts By Subscribed NPI\\2024 App Performance {deployment}.xlsx\"\n",
    "    else:\n",
    "        output_path =rf\"R:\\Patient Alerts By Subscribed NPI - {deployment}\\2024 App Performance {deployment}.xlsx\"\n",
    " \n",
    "    with pd.ExcelWriter(output_path, engine='xlsxwriter') as writer:\n",
    "        df.to_excel(writer, sheet_name='Sheet1', index=False)\n",
    "        worksheet = writer.sheets['Sheet1']        \n",
    "        # Set column widths\n",
    "        worksheet.set_column('A:A', 30)  # Width for 'TimeFrame' column\n",
    "        worksheet.set_column('B:B', 30)  # Width for 'Pts With Actions(%) Aggregate' column\n",
    "        worksheet.set_column('C:C', 25)  # Width for 'Pts Read(%) Aggregate' column   \n",
    "    print(f\"Data saved for deployment {deployment} at {output_path}\")"
   ]
  }
 ],
 "metadata": {
  "kernelspec": {
   "display_name": "Python 3 (ipykernel)",
   "language": "python",
   "name": "python3"
  },
  "language_info": {
   "codemirror_mode": {
    "name": "ipython",
    "version": 3
   },
   "file_extension": ".py",
   "mimetype": "text/x-python",
   "name": "python",
   "nbconvert_exporter": "python",
   "pygments_lexer": "ipython3",
   "version": "3.10.9"
  }
 },
 "nbformat": 4,
 "nbformat_minor": 5
}
