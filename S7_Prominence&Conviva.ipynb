{
 "cells": [
  {
   "cell_type": "markdown",
   "id": "5ba2127a-183c-46cb-8494-fb34f68f0048",
   "metadata": {},
   "source": [
    "# **S7_Prominence & Conviva**"
   ]
  },
  {
   "cell_type": "code",
   "execution_count": 1,
   "id": "d73f6f85-73a7-423a-ad2a-004909b2aed2",
   "metadata": {},
   "outputs": [
    {
     "name": "stdin",
     "output_type": "stream",
     "text": [
      "Enter the date frame as mmdd-mmdd:  1223-1229\n"
     ]
    }
   ],
   "source": [
    "import os\n",
    "import xlwings as xw\n",
    "from datetime import datetime\n",
    "date_input=input('Enter the date frame as mmdd-mmdd: ')"
   ]
  },
  {
   "cell_type": "markdown",
   "id": "ca0c0dd8-d0dd-42db-aefc-d71dd9046b95",
   "metadata": {},
   "source": [
    "# **Part 1 Prominence Alerts**"
   ]
  },
  {
   "cell_type": "code",
   "execution_count": 2,
   "id": "4fdc1a39-8836-4409-b783-543cbfeca702",
   "metadata": {},
   "outputs": [
    {
     "name": "stdout",
     "output_type": "stream",
     "text": [
      "print prominence alerts finished\n"
     ]
    }
   ],
   "source": [
    "#prominence alerts\n",
    "app = xw.App(visible=True)\n",
    "if len(app.books) > 0:  # Check if any default blank book is open\n",
    "    app.books[0].close()\n",
    "wb = app.books.open(fr'C:\\Users\\ZemingLiu\\OneDrive - PBACO\\Documents\\Weekly App Reports\\Derrell Macros\\Prominence & Conviva\\{date_input}\\Patient Alerts by Subscribed NPI_Prominence incl.xlsx')\n",
    "ws=wb.sheets('Patient Alerts by Subscribed NP')\n",
    "\n",
    "\n",
    "#delete rows and columns\n",
    "ws.range('1:8').delete()\n",
    "columns_to_delete = ['AC', 'Z', 'X', 'W', 'V', 'Q', 'O', 'M', 'L', 'I', 'G', 'F', 'A']\n",
    "for column in columns_to_delete:\n",
    "    ws.range(fr'{column}:{column}').delete()\n",
    "\n",
    "#set up column width \n",
    "column_widths=[10,35,10,20,10,5,6,5,5,5,5,6,3,7,4,4,4,4,7,4]\n",
    "columns = list('ABCDEFGHIJKLMNOPQRST') \n",
    "for i, width in enumerate(column_widths):\n",
    "    ws.range(f\"{columns[i]}1\").column_width = width  \n",
    "\n",
    "#set up column height\n",
    "ws.range('1:1').row_height = 100\n",
    "max_row = ws.used_range.last_cell.row\n",
    "ws.range(fr'2:{max_row}').row_height = 15\n",
    "\n",
    "#print pdf to R drive\n",
    "ws.api.ExportAsFixedFormat(0, fr\"R:\\Patient Alerts NPI Prominence\\{datetime.now().year}{date_input[:4]}WeekNPIProm.pdf\")\n",
    "\n",
    "#close wb\n",
    "wb.close()\n",
    "print('print prominence alerts finished')"
   ]
  },
  {
   "cell_type": "markdown",
   "id": "d3e44d2d-0a62-453d-86bf-b4509073d142",
   "metadata": {},
   "source": [
    "# **Part 2 Prominence Conviva**"
   ]
  },
  {
   "cell_type": "code",
   "execution_count": 3,
   "id": "3888a376-9882-4e4e-a710-29b1ee6b4a47",
   "metadata": {
    "tags": []
   },
   "outputs": [
    {
     "name": "stdout",
     "output_type": "stream",
     "text": [
      "print prominence actions finished\n"
     ]
    }
   ],
   "source": [
    "#print prominence actions\n",
    "wb = app.books.open(fr'C:\\Users\\ZemingLiu\\OneDrive - PBACO\\Documents\\Weekly App Reports\\Derrell Macros\\Prominence & Conviva\\{date_input}\\Prominence_Actions_By_Date_Range.xlsx')\n",
    "ws=wb.sheets('Prominence_Actions_By_Date_Rang')\n",
    "\n",
    "#delete rows and columns\n",
    "ws.range('2:4').delete()\n",
    "\n",
    "#set up column width\n",
    "column_widths=[30.11,21.0,21.0,10.89,13.67,2.33,22.89,9.33,3.89,9.22,2.33,13.22,9.67,10.11,34.0,15.44,33.67,22.56,11.0,11.78]\n",
    "columns = list('ABCDEFGHIJKLMNOPQRST') \n",
    "for i, width in enumerate(column_widths):\n",
    "    ws.range(f\"{columns[i]}1\").column_width = width\n",
    "ws.range(f\"2:{ws.used_range.last_cell.row + 1}\").row_height=25\n",
    "\n",
    "\n",
    "#print pdf to R drive\n",
    "ws.api.PageSetup.PaperSize = 3  # 3 = xlPaperTabloid (11 x 17 inches)\n",
    "ws.api.PageSetup.Orientation = 2  # 2 = xlLandscape\n",
    "ws.api.PageSetup.TopMargin = 0.25  # Narrow margin (in inches)\n",
    "ws.api.PageSetup.BottomMargin = 0.25\n",
    "ws.api.PageSetup.LeftMargin = 0.25\n",
    "ws.api.PageSetup.RightMargin = 0.25\n",
    "ws.api.PageSetup.Zoom = False  # Disable zoom to fit columns\n",
    "ws.api.PageSetup.FitToPagesWide = 1  # Fit all columns on one page\n",
    "ws.api.PageSetup.FitToPagesTall = False  # Do not limit the number of rows per page\n",
    "ws.api.ExportAsFixedFormat(0, fr\"R:\\Patient Alerts NPI Prominence Actions\\{datetime.now().year}{date_input[:4]}WeekNPIPromAlerts-PHI.pdf\")\n",
    "\n",
    "#close wb\n",
    "wb.close()\n",
    "app.quit()\n",
    "print('print prominence actions finished')"
   ]
  },
  {
   "cell_type": "markdown",
   "id": "6be66f70-db9d-4c3a-925e-3be26b497624",
   "metadata": {},
   "source": [
    "# **Part 3 Conviva**"
   ]
  },
  {
   "cell_type": "code",
   "execution_count": 4,
   "id": "5d604e51-30fd-42a5-8c8c-8846876eea57",
   "metadata": {},
   "outputs": [],
   "source": [
    "import win32com.client as win32\n",
    "outlook = win32.Dispatch('Outlook.Application')\n",
    "template_path=fr'C:\\Users\\ZemingLiu\\OneDrive - PBACO\\Documents\\Weekly App Reports\\Derrell Macros\\Prominence & Conviva\\Conviva Patient Activity.oft'\n",
    "email = outlook.CreateItemFromTemplate(template_path)\n",
    "email.Body=email.Body.replace(\"[date_range]\", date_input)\n",
    "email.Attachments.Add(fr\"C:\\Users\\ZemingLiu\\OneDrive - PBACO\\Documents\\Weekly App Reports\\Derrell Macros\\Prominence & Conviva\\{date_input}\\CONVIVA Patient Alerts by Subscribed NPI.xlsx\")\n",
    "email.Display()"
   ]
  }
 ],
 "metadata": {
  "kernelspec": {
   "display_name": "Python 3 (ipykernel)",
   "language": "python",
   "name": "python3"
  },
  "language_info": {
   "codemirror_mode": {
    "name": "ipython",
    "version": 3
   },
   "file_extension": ".py",
   "mimetype": "text/x-python",
   "name": "python",
   "nbconvert_exporter": "python",
   "pygments_lexer": "ipython3",
   "version": "3.10.9"
  }
 },
 "nbformat": 4,
 "nbformat_minor": 5
}
