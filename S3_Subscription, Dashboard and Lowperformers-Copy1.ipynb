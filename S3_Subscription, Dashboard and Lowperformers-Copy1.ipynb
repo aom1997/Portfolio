{
 "cells": [
  {
   "cell_type": "markdown",
   "id": "af26be52-aebb-4546-a6ac-ab8e2d8ba004",
   "metadata": {},
   "source": [
    "# **S3_App Subscription, Dashboard, and Low App Performers**"
   ]
  },
  {
   "cell_type": "code",
   "execution_count": 76,
   "id": "b816576a-8450-45be-99ae-953821b8015d",
   "metadata": {},
   "outputs": [],
   "source": [
    "import os\n",
    "import pandas as pd\n",
    "from openpyxl import Workbook, load_workbook\n",
    "from openpyxl.worksheet.table import Table, TableStyleInfo\n",
    "from openpyxl.styles import PatternFill\n",
    "from openpyxl.styles import Font\n",
    "from openpyxl.styles import Border, Side\n",
    "import shutil\n",
    "from datetime import datetime, timedelta\n",
    "import xlwings as xw"
   ]
  },
  {
   "cell_type": "code",
   "execution_count": 77,
   "id": "4e6d8889-fbfb-406d-aa1c-41424f551411",
   "metadata": {},
   "outputs": [
    {
     "name": "stdin",
     "output_type": "stream",
     "text": [
      "Enter the name of ACO  Empire\n",
      "Enter the date frame as mmdd-mmdd:  1223-1229\n"
     ]
    }
   ],
   "source": [
    "deployment=input('Enter the name of ACO ')\n",
    "date_input = input ('Enter the date frame as mmdd-mmdd: ')\n",
    "path=fr\"C:\\Users\\ZemingLiu\\OneDrive - PBACO\\Documents\\Weekly App Reports\\Derrell Macros\\Patient Alerts Macro\\{date_input} {deployment}\"\n",
    "\n",
    "#function to get last week\n",
    "def get_previous_week(current_week):\n",
    "    start_date_str, end_date_str = current_week.split('-')\n",
    "    start_date = datetime.strptime(start_date_str, \"%m%d\")\n",
    "    end_date = datetime.strptime(end_date_str, \"%m%d\")\n",
    "    prev_start_date = start_date - timedelta(days=7)\n",
    "    prev_end_date = end_date - timedelta(days=7)\n",
    "    lastweek_date_input = f\"{prev_start_date.strftime('%m%d')}-{prev_end_date.strftime('%m%d')}\"\n",
    "    return lastweek_date_input\n",
    "lastweek_date_input = get_previous_week(date_input)\n",
    "\n",
    "#import subscription and alert_working\n",
    "subscription=pd.read_excel(fr'{path}\\App Subscription.xlsx',skiprows=3)\n",
    "if deployment == 'PBACO':\n",
    "    df=pd.read_excel(fr'{path}\\patient_alerts_working_{date_input}.xlsx',skiprows=5,sheet_name='All')\n",
    "else:\n",
    "    df=pd.read_excel(fr'{path}\\patient_alerts_working_{deployment}_{date_input}.xlsx',skiprows=5,sheet_name='All')"
   ]
  },
  {
   "cell_type": "markdown",
   "id": "ba677be1-ebd8-4081-896d-45a4d0f8b02a",
   "metadata": {},
   "source": [
    "# **Part 1 App Subscription**"
   ]
  },
  {
   "cell_type": "code",
   "execution_count": 78,
   "id": "617482fb-6661-40dc-8b76-591ef6cee481",
   "metadata": {
    "tags": []
   },
   "outputs": [],
   "source": [
    "#drop empty columns\n",
    "drop_col=[col for col in subscription.columns if 'Unnamed' in col] \n",
    "subscription.drop(drop_col,axis=1,inplace=True)\n",
    "\n",
    "#drop rows not in the alert_working\n",
    "drop_rows = subscription[~subscription['NPI'].isin(df['NPI'])].index\n",
    "subscription.drop(drop_rows,axis=0,inplace=True)\n",
    "\n",
    "#concat npi name\n",
    "subscription.insert(3,'NPI Name',(subscription['NPI FirstName']+', '+subscription['NPI LastName']))\n",
    "subscription.drop(subscription.columns[4:6], axis=1, inplace=True)"
   ]
  },
  {
   "cell_type": "code",
   "execution_count": 79,
   "id": "feeda5c3-41b2-4f42-878c-31bd43ae9b26",
   "metadata": {
    "tags": []
   },
   "outputs": [],
   "source": [
    "#add a column as highlight indicator, highlight cell if NPI has no patient read\n",
    "subscription['highlight_indicator']=''\n",
    "highlight_NPI = df[df['Total Pts Read']==0]['NPI'].tolist()\n",
    "subscription['highlight_indicator'] = subscription['NPI'].isin(highlight_NPI).astype(int)    \n",
    "#sort\n",
    "subscription = subscription.sort_values(by=['highlight_indicator', 'Entity', 'NPI Name'], ascending=[False, True, True])"
   ]
  },
  {
   "cell_type": "code",
   "execution_count": 80,
   "id": "9f0c4680-935b-4acd-ba32-a79ee14e06c5",
   "metadata": {},
   "outputs": [],
   "source": [
    "#save as excel then use openxl import again\n",
    "if deployment == 'PBACO':\n",
    "    subscription.to_excel(fr'{path}\\patient_alerts_{date_input}\\App Subscription_{date_input}.xlsx',index=False)\n",
    "    wb=load_workbook(fr'{path}\\patient_alerts_{date_input}\\App Subscription_{date_input}.xlsx')\n",
    "else:\n",
    "    subscription.to_excel(fr'{path}\\patient_alerts_{deployment}_{date_input}\\App Subscription_{deployment}_{date_input}.xlsx',index=False)\n",
    "    wb=load_workbook(fr'{path}\\patient_alerts_{deployment}_{date_input}\\App Subscription_{deployment}_{date_input}.xlsx')\n",
    "ws=wb.active"
   ]
  },
  {
   "cell_type": "code",
   "execution_count": 81,
   "id": "9d0e0ba9-1419-4c45-bf1a-8a55a6f2a66c",
   "metadata": {
    "tags": []
   },
   "outputs": [],
   "source": [
    "#highlight NPI column\n",
    "for row in range(2, ws.max_row + 1): \n",
    "    cell = ws[f\"C{row}\"]\n",
    "    if ws[f\"L{row}\"].value ==1:\n",
    "        cell.fill = PatternFill(start_color=\"FFFF00\", end_color=\"FFFF00\", fill_type=\"solid\")\n",
    "\n",
    "#drop indicator column\n",
    "ws.delete_cols(12)\n",
    "\n",
    "#convert to table\n",
    "maxrow=ws.max_row\n",
    "minrow=ws.min_row\n",
    "maxcol=ws.max_column\n",
    "mincol=ws.min_column\n",
    "table_range = f\"{ws.cell(row=minrow, column=mincol).coordinate}:{ws.cell(row=maxrow, column=maxcol).coordinate}\"\n",
    "table = Table(displayName=\"DataTable\", ref=table_range) # Define the table with the detected range\n",
    "table.tableStyleInfo=TableStyleInfo(name=\"TableStyleMedium9\", showFirstColumn=False,\n",
    "                       showLastColumn=False, showRowStripes=True, showColumnStripes=True)\n",
    "ws.add_table(table) # Add the table to the worksheet\n",
    "\n",
    "#set up cell width\n",
    "column_widths = [10,48, 11, 30, 30, 18, 18, 30, 14, 18, 15]\n",
    "columns = list('ABCDEFGHIJK')\n",
    "for i, width in enumerate(column_widths):\n",
    "    ws.column_dimensions[columns[i]].width = width"
   ]
  },
  {
   "cell_type": "code",
   "execution_count": 82,
   "id": "c0a54bd7-0d78-47cc-81e6-1f1d789d5b80",
   "metadata": {},
   "outputs": [
    {
     "data": {
      "text/plain": [
       "'C:\\\\Users\\\\ZemingLiu\\\\OneDrive - PBACO\\\\Documents\\\\Weekly App Reports\\\\Derrell Macros\\\\Patient Alerts Macro\\\\1223-1229 Empire\\\\Raw_Files\\\\App Subscription.xlsx'"
      ]
     },
     "execution_count": 82,
     "metadata": {},
     "output_type": "execute_result"
    }
   ],
   "source": [
    "#save as excel\n",
    "if deployment=='PBACO':\n",
    "    wb.save(fr'{path}\\patient_alerts_{date_input}\\App Subscription_{date_input}.xlsx')\n",
    "else:\n",
    "    wb.save(fr'{path}\\patient_alerts_{deployment}_{date_input}\\App Subscription_{deployment}_{date_input}.xlsx')\n",
    "wb.close()\n",
    "\n",
    "#move to raw files\n",
    "os.makedirs(fr'{path}\\Raw_Files', exist_ok=True)\n",
    "shutil.move(fr\"{path}\\App Subscription.xlsx\", fr\"{path}\\Raw_Files\\App Subscription.xlsx\")"
   ]
  },
  {
   "cell_type": "code",
   "execution_count": 83,
   "id": "0485506a-630a-4971-8db0-afd9e3f9e6fb",
   "metadata": {},
   "outputs": [
    {
     "name": "stdin",
     "output_type": "stream",
     "text": [
      "Enter Y when you are ready to continue y\n"
     ]
    },
    {
     "name": "stdout",
     "output_type": "stream",
     "text": [
      "Part1 App Subcription is done, file saved at C:\\Users\\ZemingLiu\\OneDrive - PBACO\\Documents\\Weekly App Reports\\Derrell Macros\\Patient Alerts Macro\\1223-1229 Empire\\patient_alerts_1223-1229\\App Subscription_1223-1229.xlsx\n",
      "Start Part2\n"
     ]
    }
   ],
   "source": [
    "continue_input=input('Enter Y when you are ready to continue')\n",
    "print(fr\"Part1 App Subcription is done, file saved at {path}\\patient_alerts_{date_input}\\App Subscription_{date_input}.xlsx\")\n",
    "if  continue_input.lower()=='y':\n",
    "    print('Start Part2')\n",
    "else:\n",
    "    sys.exit()"
   ]
  },
  {
   "cell_type": "markdown",
   "id": "0817d722-e922-4cd0-9c46-47216fc58776",
   "metadata": {},
   "source": [
    "# **Part 2 App Dashboard**"
   ]
  },
  {
   "cell_type": "code",
   "execution_count": 84,
   "id": "93c4242c-3b47-4660-ad33-a092420a92f4",
   "metadata": {},
   "outputs": [
    {
     "data": {
      "text/plain": [
       "'C:\\\\Users\\\\ZemingLiu\\\\OneDrive - PBACO\\\\Documents\\\\Weekly App Reports\\\\Derrell Macros\\\\Patient Alerts Macro\\\\1223-1229 Empire\\\\app_usage_dashboard_Empire_1223-1229.xlsx'"
      ]
     },
     "execution_count": 84,
     "metadata": {},
     "output_type": "execute_result"
    }
   ],
   "source": [
    "#copy file\n",
    "import xlwings as xw\n",
    "from datetime import datetime\n",
    "if deployment == 'PBACO':\n",
    "    source_file_path=fr\"C:\\Users\\ZemingLiu\\OneDrive - PBACO\\Documents\\Weekly App Reports\\Derrell Macros\\Patient Alerts Macro\\{lastweek_date_input} {deployment}\\app_usage_dashboard_{lastweek_date_input}.xlsx\"\n",
    "    destination_file_path=fr\"C:\\Users\\ZemingLiu\\OneDrive - PBACO\\Documents\\Weekly App Reports\\Derrell Macros\\Patient Alerts Macro\\{date_input} {deployment}\\app_usage_dashboard_{date_input}.xlsx\"\n",
    "else:\n",
    "    source_file_path=fr\"C:\\Users\\ZemingLiu\\OneDrive - PBACO\\Documents\\Weekly App Reports\\Derrell Macros\\Patient Alerts Macro\\{lastweek_date_input} {deployment}\\app_usage_dashboard_{deployment}_{lastweek_date_input}.xlsx\"\n",
    "    destination_file_path=fr\"C:\\Users\\ZemingLiu\\OneDrive - PBACO\\Documents\\Weekly App Reports\\Derrell Macros\\Patient Alerts Macro\\{date_input} {deployment}\\app_usage_dashboard_{deployment}_{date_input}.xlsx\"\n",
    "shutil.copy(source_file_path,destination_file_path)"
   ]
  },
  {
   "cell_type": "code",
   "execution_count": 85,
   "id": "00180670-e150-4d44-8b90-aa1a6a200459",
   "metadata": {},
   "outputs": [],
   "source": [
    "#add a new sheet under current week\n",
    "app = xw.App(visible=True)\n",
    "wb = app.books.open(destination_file_path)\n",
    "sheet_to_copy = wb.sheets[lastweek_date_input]\n",
    "ws=sheet_to_copy.copy(after=sheet_to_copy)\n",
    "ws.name = date_input"
   ]
  },
  {
   "cell_type": "code",
   "execution_count": 86,
   "id": "1ba01ea1-b997-429d-a1ad-f22d5436bbc1",
   "metadata": {
    "tags": []
   },
   "outputs": [],
   "source": [
    "#rolling last 3 weeks value\n",
    "for i in range(25, 1000):\n",
    "    if ws.range(f\"F{i}\").value and 'Pts With Actions (%) Aggregate' in ws.range(f\"F{i}\").value:\n",
    "        max_row = i\n",
    "        break\n",
    "\n",
    "source_range = ws.range(f'H25:J{max_row}')\n",
    "destination_range = ws.range(f'G25:I{max_row}')\n",
    "destination_range.value = source_range.value"
   ]
  },
  {
   "cell_type": "code",
   "execution_count": 87,
   "id": "2f691a98-e219-4e8a-8153-3abef83ed3eb",
   "metadata": {
    "tags": []
   },
   "outputs": [],
   "source": [
    "#action ratio by pc\n",
    "df_ratio_bypc = df.groupby('Provider Consultant').apply(lambda x: x['Total Pts With Actions'].sum() / x['Pts Sent To App'].sum()).reset_index(name='actions_per_consultant_ratio')\n",
    "source_values = ws.range(f'F26:F{max_row}').value  # all pc\n",
    "lookup_results = []\n",
    "for value in source_values:\n",
    "    if value in df_ratio_bypc['Provider Consultant'].values:\n",
    "        action_ratio = df_ratio_bypc[df_ratio_bypc['Provider Consultant'] == value]['actions_per_consultant_ratio'].iloc[0]\n",
    "        lookup_results.append(action_ratio)\n",
    "    else:\n",
    "        lookup_results.append(None)  # Append None if value is not found\n",
    "lookup_results = [[result] for result in lookup_results] #change the list from horizional to vertical\n",
    "\n",
    "# Write the results back to Excel in the range J26:J66\n",
    "ws.range('J25').value = fr\"{date_input[:2]}/{date_input[2:4]}-{date_input[5:7]}/{date_input[7:9]}\"\n",
    "ws.range(f'J26:J{max_row}').value = lookup_results \n",
    "ws.range(f'J{max_row}').value = f\"{round((df[df['Provider Consultant']!='David T']['Total Pts With Actions'].sum()/df[df['Provider Consultant']!='David T']['Pts Sent To App'].sum()),4)}\""
   ]
  },
  {
   "cell_type": "code",
   "execution_count": 88,
   "id": "b1f5be12-f0c9-4bb7-841d-710727dc2909",
   "metadata": {},
   "outputs": [],
   "source": [
    "#change the header\n",
    "ws.range('A1').value = fr\"{deployment} APP Usage Dashboard - From: {date_input[:2]}/{date_input[2:4]}/{datetime.now().year} To: {date_input[5:7]}/{date_input[7:9]}/{datetime.now().year}\"\n",
    "\n",
    "#sort the data with desc ration\n",
    "data_range = ws.range(f'F25:J{max_row-1}')\n",
    "sort = ws.api.Sort\n",
    "sort.SortFields.Clear()\n",
    "sort.SortFields.Add(\n",
    "    Key=ws.range(f'J25:J{max_row-1}').api,  # Sort by column J\n",
    "    SortOn=0,  # xlSortOnValues (0 for values)\n",
    "    Order=2,  # xlDescending (2 for descending order, 1 for ascending)\n",
    "    DataOption=0  # xlSortNormal\n",
    ")\n",
    "sort.SetRange(ws.range(f'F25:J{max_row-1}').api)  # Define the entire range to sort\n",
    "sort.Header = 0  # No header row in the range\n",
    "sort.MatchCase = False\n",
    "sort.Orientation = 1  # xlSortColumns\n",
    "sort.SortMethod = 1  # xlPinYin\n",
    "sort.Apply()"
   ]
  },
  {
   "cell_type": "code",
   "execution_count": 89,
   "id": "b4ca1240-13ac-455e-aa83-2afb3b46eb5a",
   "metadata": {
    "tags": []
   },
   "outputs": [],
   "source": [
    "#save the file and print it to pdf\n",
    "if deployment == 'PBACO':\n",
    "    ws.api.ExportAsFixedFormat(0, fr\"{path}\\patient_alerts_{date_input}\\app_usage_dashboard_{date_input}.pdf\")\n",
    "    wb.save()\n",
    "else:\n",
    "    ws.api.ExportAsFixedFormat(0, fr\"{path}\\patient_alerts_{deployment}_{date_input}\\app_usage_dashboard_{deployment}_{date_input}.pdf\")\n",
    "    wb.save() \n",
    "wb.close()"
   ]
  },
  {
   "cell_type": "code",
   "execution_count": 90,
   "id": "b79caccb-e6b2-488c-a621-898892b47550",
   "metadata": {
    "tags": []
   },
   "outputs": [
    {
     "name": "stdin",
     "output_type": "stream",
     "text": [
      "Enter Y when you are ready to continue y\n"
     ]
    },
    {
     "name": "stdout",
     "output_type": "stream",
     "text": [
      "Part2 App Dashboard is done, file saved at C:\\Users\\ZemingLiu\\OneDrive - PBACO\\Documents\\Weekly App Reports\\Derrell Macros\\Patient Alerts Macro\\1223-1229 Empire\\patient_alerts_1223-1229\\app_usage_dashboard_1223-1229.pdf\n",
      "Start Part3\n"
     ]
    }
   ],
   "source": [
    "continue_input=input('Enter Y when you are ready to continue')\n",
    "print(fr\"Part2 App Dashboard is done, file saved at {path}\\patient_alerts_{date_input}\\app_usage_dashboard_{date_input}.pdf\")\n",
    "if continue_input.lower()=='y':\n",
    "    print('Start Part3')\n",
    "else:\n",
    "    sys.exit()"
   ]
  },
  {
   "cell_type": "markdown",
   "id": "349b1f4d-860e-4cb6-9b58-31c928a51d76",
   "metadata": {
    "tags": []
   },
   "source": [
    "# **Part 3 Low App Performers**"
   ]
  },
  {
   "cell_type": "code",
   "execution_count": 91,
   "id": "780b1e61-7182-4977-9dd9-2ecc8c2fa610",
   "metadata": {},
   "outputs": [],
   "source": [
    "#open workbook\n",
    "if deployment == 'PBACO':\n",
    "    source_file_path=fr\"C:\\Users\\ZemingLiu\\OneDrive - PBACO\\Documents\\Weekly App Reports\\Derrell Macros\\Patient Alerts Macro\\{lastweek_date_input} {deployment}\\Low_App_Performers_ongoing_{lastweek_date_input}.xlsx\"\n",
    "    destination_file_path=fr\"C:\\Users\\ZemingLiu\\OneDrive - PBACO\\Documents\\Weekly App Reports\\Derrell Macros\\Patient Alerts Macro\\{date_input} {deployment}\\Low_App_Performers_ongoing_{date_input}.xlsx\"\n",
    "else:\n",
    "    source_file_path=fr\"C:\\Users\\ZemingLiu\\OneDrive - PBACO\\Documents\\Weekly App Reports\\Derrell Macros\\Patient Alerts Macro\\{lastweek_date_input} {deployment}\\Low_App_Performers_ongoing_{deployment}_{lastweek_date_input}.xlsx\"\n",
    "    destination_file_path=fr\"C:\\Users\\ZemingLiu\\OneDrive - PBACO\\Documents\\Weekly App Reports\\Derrell Macros\\Patient Alerts Macro\\{date_input} {deployment}\\Low_App_Performers_ongoing_{deployment}_{date_input}.xlsx\""
   ]
  },
  {
   "cell_type": "code",
   "execution_count": 92,
   "id": "10356162-c3a0-471c-89fc-cc2b3b7c824f",
   "metadata": {},
   "outputs": [],
   "source": [
    "#add new sheet under current week\n",
    "shutil.copy(source_file_path,destination_file_path)\n",
    "wb=load_workbook(destination_file_path, keep_links=False)\n",
    "sheet_to_copy=wb[fr\"{lastweek_date_input}\"]\n",
    "new_sheet=wb.copy_worksheet(sheet_to_copy)\n",
    "new_sheet.title=date_input\n",
    "new_sheet.delete_rows(2,amount=new_sheet.max_row)\n",
    "new_sheet.auto_filter.ref = f\"A1:{chr(64 + new_sheet.max_column)}1\" #add filter"
   ]
  },
  {
   "cell_type": "code",
   "execution_count": 93,
   "id": "5554c9e8-8522-4374-a5fa-2a804e392772",
   "metadata": {
    "tags": []
   },
   "outputs": [],
   "source": [
    "#reference value from last week\n",
    "df_lowperformer=df[df['Pts With Actions(%)'].str.rstrip('%').astype('float')<=60][['TIN','TIN Name','NPI','Provider','Provider Consultant','In Pes','Pts Sent To App','Pts With Actions(%)','Total Pts With Actions','Logins']]\n",
    "#df_lowperformer=df[df['Pts With Actions(%)']<=0.6][['TIN','TIN Name','NPI','Provider','Provider Consultant','In Pes','Pts Sent To App','Pts With Actions(%)','Total Pts With Actions','Logins']]\n",
    "df_lastweek_lowperformer=pd.read_excel(source_file_path,sheet_name=lastweek_date_input)\n",
    "merged_df=pd.merge(df_lowperformer,df_lastweek_lowperformer[['NPI','Consecutive Weeks']],on='NPI',how='left',suffixes=('', '_lastweek'))\n",
    "\n",
    "#get value for this week\n",
    "merged_df['Consecutive Weeks']=merged_df['Consecutive Weeks'].fillna(0)\n",
    "merged_df['Consecutive Weeks']=merged_df['Consecutive Weeks']+1\n",
    "merged_df['Last Week?']='NO'\n",
    "merged_df.loc[merged_df['Consecutive Weeks']>1,'Last Week?']='YES' #avoid modifying on the slicer\n",
    "merged_df['Notes']=''\n",
    "\n",
    "#set up a TIN consecutive week='' Chantel's request\n",
    "merged_df[merged_df['TIN'].astype('Int64')==824997767]['Consecutive Weeks']=''"
   ]
  },
  {
   "cell_type": "code",
   "execution_count": 94,
   "id": "9c34ae97-6c0d-4d05-ab0c-415c0b4274c1",
   "metadata": {
    "tags": []
   },
   "outputs": [],
   "source": [
    "#add value into the sheet\n",
    "for r_idx, row in enumerate(merged_df.values, start=1):  # Start from row 2 to leave room for headers\n",
    "    for c_idx, value in enumerate(row, start=1):  # Start from column 1 (A)\n",
    "        new_sheet.cell(row=r_idx+1, column=c_idx, value=value)"
   ]
  },
  {
   "cell_type": "code",
   "execution_count": 95,
   "id": "e37a33c1-dca0-4c84-a105-a085d06ab827",
   "metadata": {},
   "outputs": [],
   "source": [
    "#fill colors and set font\n",
    "for cell in new_sheet[1]:  # Iterate over each cell in row 1\n",
    "    cell.font = Font(name='Calibri', size=11, bold=True)\n",
    "\n",
    "pt_sent_to_app_fill = PatternFill(start_color='6495ED', end_color='6495ED', fill_type='solid')\n",
    "for row in range(1, new_sheet.max_row + 1):  # Use max_row to iterate through actual data rows\n",
    "    new_sheet.cell(row=row, column=5).fill = pt_sent_to_app_fill\n",
    "    \n",
    "pt_with_actions_fill = PatternFill(start_color='90EE90', end_color='90EE90', fill_type='solid')\n",
    "for col in range(6, 8):  \n",
    "    for row in range(1, new_sheet.max_row + 1):\n",
    "        new_sheet.cell(row=row, column=col).fill = pt_with_actions_fill\n",
    "\n",
    "login_fill = PatternFill(start_color='AFEEEE', end_color='AFEEEE', fill_type='solid')\n",
    "for row in range(1, new_sheet.max_row + 1):\n",
    "    new_sheet.cell(row=row, column=8).fill = login_fill\n",
    "    \n",
    "thin_border = Border(left=Side(style='thin'),right=Side(style='thin'),top=Side(style='thin'),bottom=Side(style='thin'))\n",
    "for row in new_sheet.iter_rows(min_row=1,max_row=new_sheet.max_row,min_col=1,max_col=new_sheet.max_column):\n",
    "    for cell in row:\n",
    "        cell.border = thin_border\n",
    "        \n",
    "#highlight 3 and 4 consecutive weeks\n",
    "for row in range(2, new_sheet.max_row + 1): \n",
    "    cell = new_sheet[f\"I{row}\"]\n",
    "    if new_sheet[f\"I{row}\"].value in [3,4]:\n",
    "        cell.fill = PatternFill(start_color=\"FFFF00\", end_color=\"FFFF00\", fill_type=\"solid\")\n",
    "        cell.alignment = Alignment(horizontal='left')\n",
    "        \n",
    "for row in range(1,new_sheet.max_row+1):\n",
    "    for cell in new_sheet[row]:\n",
    "        \n",
    "\n",
    "wb.save(destination_file_path)\n",
    "wb.close()"
   ]
  },
  {
   "cell_type": "code",
   "execution_count": 96,
   "id": "79d7d627-8d99-4e58-ad29-579a1d57679a",
   "metadata": {
    "tags": []
   },
   "outputs": [],
   "source": [
    "#save the currentweek low performer spreedsheet as a new workbook, not support by openpyxl, will use xlwings to do it\n",
    "wb = app.books.open(destination_file_path)\n",
    "sheet_to_copy = wb.sheets[date_input]\n",
    "\n",
    "new_book = xw.Book()\n",
    "new_sheet = new_book.sheets[0]\n",
    "sheet_to_copy.api.Copy(Before=new_sheet.api) \n",
    "copied_sheet = new_book.sheets[-1]\n",
    "new_sheet.delete()\n",
    "\n",
    "if deployment=='PBACO':\n",
    "    new_book.save(fr\"C:\\Users\\ZemingLiu\\OneDrive - PBACO\\Documents\\Weekly App Reports\\Derrell Macros\\Patient Alerts Macro\\{date_input} {deployment}\\Low_App_Performers_{date_input}.xlsx\")\n",
    "else:\n",
    "    new_book.save(fr\"C:\\Users\\ZemingLiu\\OneDrive - PBACO\\Documents\\Weekly App Reports\\Derrell Macros\\Patient Alerts Macro\\{date_input} {deployment}\\Low_App_Performers_{deployment}_{date_input}.xlsx\")\n",
    "    \n",
    "wb.close()\n",
    "new_book.close()\n",
    "app.quit()"
   ]
  },
  {
   "cell_type": "code",
   "execution_count": 97,
   "id": "f1f896e6-b7b5-4cd0-bbf4-0c0ded1d0868",
   "metadata": {},
   "outputs": [
    {
     "name": "stdin",
     "output_type": "stream",
     "text": [
      "Enter Y when you are ready to continue y\n"
     ]
    },
    {
     "name": "stdout",
     "output_type": "stream",
     "text": [
      "Low App Performers is done, file saved at C:\\Users\\ZemingLiu\\OneDrive - PBACO\\Documents\\Weekly App Reports\\Derrell Macros\\Patient Alerts Macro\\1223-1229 Empire\\Low_App_Performers_1223-1229.xlsx\n",
      "Start Part4 Move Files\n"
     ]
    }
   ],
   "source": [
    "continue_input=input('Enter Y when you are ready to continue')\n",
    "print(fr\"Low App Performers is done, file saved at C:\\Users\\ZemingLiu\\OneDrive - PBACO\\Documents\\Weekly App Reports\\Derrell Macros\\Patient Alerts Macro\\{date_input} {deployment}\\Low_App_Performers_{date_input}.xlsx\")\n",
    "if  continue_input.lower()=='y':\n",
    "    print('Start Part4 Move Files')\n",
    "else:\n",
    "    sys.exit()"
   ]
  },
  {
   "cell_type": "markdown",
   "id": "468089bd-68c9-4676-9884-5b5f99af085a",
   "metadata": {},
   "source": [
    "# **Part 4 Move Patients Alerts for each PC, App Subscription, App Usage Dashboard PDF to R Drive**"
   ]
  },
  {
   "cell_type": "code",
   "execution_count": 98,
   "id": "29a3a70d-bb7e-40f7-9424-81764a439113",
   "metadata": {},
   "outputs": [],
   "source": [
    "if deployment == 'PBACO':\n",
    "    source_folder_path=fr'{path}\\patient_alerts_{date_input}'\n",
    "    destination_folder_path=fr'R:\\Patient Alerts by Subscribed NPI\\{date_input}'\n",
    "else:\n",
    "    source_folder_path=fr'{path}\\patient_alerts_{deployment}_{date_input}'\n",
    "    destination_folder_path=fr'R:\\Patient Alerts by Subscribed NPI - {deployment}\\{date_input}'\n",
    "os.makedirs(destination_folder_path, exist_ok=True)"
   ]
  },
  {
   "cell_type": "code",
   "execution_count": 99,
   "id": "d5022bfa-a775-42ae-a141-91d5f76e59ca",
   "metadata": {},
   "outputs": [
    {
     "name": "stdout",
     "output_type": "stream",
     "text": [
      "Move files done, all the files have been moved to {destination_folder_path}\n"
     ]
    }
   ],
   "source": [
    "for filename in os.listdir(source_folder_path):\n",
    "    if filename.lower().endswith('.pdf') or 'App Subscription' in filename or 'patient_alerts_All' in filename:\n",
    "        source_file_path = os.path.join(source_folder_path,filename)\n",
    "        destination_file_path=os.path.join(destination_folder_path,filename)\n",
    "        shutil.copy(source_file_path,destination_file_path)\n",
    "print('Move files done, all the files have been moved to {destination_folder_path}')"
   ]
  }
 ],
 "metadata": {
  "kernelspec": {
   "display_name": "Python 3 (ipykernel)",
   "language": "python",
   "name": "python3"
  },
  "language_info": {
   "codemirror_mode": {
    "name": "ipython",
    "version": 3
   },
   "file_extension": ".py",
   "mimetype": "text/x-python",
   "name": "python",
   "nbconvert_exporter": "python",
   "pygments_lexer": "ipython3",
   "version": "3.10.9"
  }
 },
 "nbformat": 4,
 "nbformat_minor": 5
}
